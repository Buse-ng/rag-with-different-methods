{
 "cells": [
  {
   "cell_type": "markdown",
   "id": "bf40bbc0",
   "metadata": {},
   "source": [
    "# 1. Gerekli Kütüphaneler"
   ]
  },
  {
   "cell_type": "code",
   "execution_count": 34,
   "id": "308e3261",
   "metadata": {},
   "outputs": [],
   "source": [
    "from dotenv import load_dotenv\n",
    "import os\n",
    "import openai\n",
    "from groq import Groq\n",
    "import numpy as np\n",
    "from sklearn.metrics.pairwise import cosine_similarity\n",
    "from sentence_transformers import SentenceTransformer"
   ]
  },
  {
   "cell_type": "markdown",
   "id": "5f29c8cb",
   "metadata": {},
   "source": [
    "# 2. Ortam Değişkenlerini Yükle"
   ]
  },
  {
   "cell_type": "code",
   "execution_count": 35,
   "id": "0a7dd0da",
   "metadata": {},
   "outputs": [
    {
     "name": "stdout",
     "output_type": "stream",
     "text": [
      "GROQ: gsk_p ...\n"
     ]
    }
   ],
   "source": [
    "load_dotenv()\n",
    "groq_api_key = os.getenv(\"GROQ_API_KEY\")\n",
    "print(\"GROQ:\", groq_api_key[:5], \"...\")"
   ]
  },
  {
   "cell_type": "markdown",
   "id": "8b1fa5d7",
   "metadata": {},
   "source": [
    "# 3. Hikayeler ve Kullanıcı Sorusu"
   ]
  },
  {
   "cell_type": "code",
   "execution_count": 36,
   "id": "12be0314",
   "metadata": {},
   "outputs": [],
   "source": [
    "stories = [\n",
    "    \"Ormanda kaybolan bir grup maceracı vardı.\",\n",
    "    \"Küçük bir köyde herkes birbirine yardım ederdi.\",\n",
    "    \"Bir gün deniz kenarında ilginç bir taş bulundu.\",\n",
    "    \"Şehirde büyük bir festival düzenlendi.\",\n",
    "    \"Yaşlı adam her sabah parkta yürüyüş yapardı.\",\n",
    "    \"Çocuklar okul bahçesinde oyun oynuyordu.\",\n",
    "    \"Bir köpek sahibini bulmak için uzun bir yolculuğa çıktı.\",\n",
    "    \"Kütüphanede eski bir kitap keşfedildi.\",\n",
    "    \"Dağ köyünde bir gece fırtına çıktı.\",\n",
    "    \"Genç kadın yeni bir işe başladı.\"\n",
    "]"
   ]
  },
  {
   "cell_type": "code",
   "execution_count": 37,
   "id": "cf7fdd2b",
   "metadata": {},
   "outputs": [],
   "source": [
    "user_question = \"Ormanda ne oldu?\""
   ]
  },
  {
   "cell_type": "markdown",
   "id": "d5b8677e",
   "metadata": {},
   "source": [
    "# 4. Embedding Modelini Yükle"
   ]
  },
  {
   "cell_type": "code",
   "execution_count": 38,
   "id": "0556cc7e",
   "metadata": {},
   "outputs": [
    {
     "name": "stderr",
     "output_type": "stream",
     "text": [
      "C:\\Users\\HP\\AppData\\Local\\Packages\\PythonSoftwareFoundation.Python.3.10_qbz5n2kfra8p0\\LocalCache\\local-packages\\Python310\\site-packages\\huggingface_hub\\file_download.py:943: FutureWarning: `resume_download` is deprecated and will be removed in version 1.0.0. Downloads always resume when possible. If you want to force a new download, use `force_download=True`.\n",
      "  warnings.warn(\n"
     ]
    }
   ],
   "source": [
    "model = SentenceTransformer(\"sentence-transformers/all-MiniLM-L6-v2\")\n",
    "# # model = SentenceTransformer(\"all-MiniLM-L6-v2\")"
   ]
  },
  {
   "cell_type": "markdown",
   "id": "faaec89c",
   "metadata": {},
   "source": [
    "### Embedding -stories"
   ]
  },
  {
   "cell_type": "code",
   "execution_count": 39,
   "id": "6543dfde",
   "metadata": {},
   "outputs": [],
   "source": [
    "story_embeddings = model.encode(stories)"
   ]
  },
  {
   "cell_type": "markdown",
   "id": "561eac9a",
   "metadata": {},
   "source": [
    "### Embedding -question"
   ]
  },
  {
   "cell_type": "code",
   "execution_count": 40,
   "id": "97ac837d",
   "metadata": {},
   "outputs": [],
   "source": [
    "question_embedding = model.encode(user_question)\n",
    "# [model.encode(story) for story in stories]"
   ]
  },
  {
   "cell_type": "code",
   "execution_count": 53,
   "id": "043e0797",
   "metadata": {},
   "outputs": [
    {
     "name": "stdout",
     "output_type": "stream",
     "text": [
      "Cümle: Ormanda kaybolan bir grup maceracı vardı.\n",
      "Embedding vektörü (ilk 5 değer): [-0.00706573  0.05989986 -0.04916271 -0.01362983 -0.11429298]\n",
      "Vektör boyutu: 384\n",
      "\n",
      "Cümle: Küçük bir köyde herkes birbirine yardım ederdi.\n",
      "Embedding vektörü (ilk 5 değer): [-0.03265146  0.06993041 -0.0396608  -0.00230425 -0.11561898]\n",
      "Vektör boyutu: 384\n",
      "\n",
      "Cümle: Bir gün deniz kenarında ilginç bir taş bulundu.\n",
      "Embedding vektörü (ilk 5 değer): [-0.06433202  0.07662983 -0.0634205  -0.030231   -0.11734749]\n",
      "Vektör boyutu: 384\n",
      "\n",
      "Cümle: Şehirde büyük bir festival düzenlendi.\n",
      "Embedding vektörü (ilk 5 değer): [-0.02297475  0.11371834  0.03535749 -0.0610215  -0.1018513 ]\n",
      "Vektör boyutu: 384\n",
      "\n",
      "Cümle: Yaşlı adam her sabah parkta yürüyüş yapardı.\n",
      "Embedding vektörü (ilk 5 değer): [ 0.01251965  0.08531465  0.04876462 -0.02009429 -0.08396397]\n",
      "Vektör boyutu: 384\n",
      "\n",
      "Cümle: Çocuklar okul bahçesinde oyun oynuyordu.\n",
      "Embedding vektörü (ilk 5 değer): [-0.02719678  0.09604759  0.00199794  0.04414297 -0.08131072]\n",
      "Vektör boyutu: 384\n",
      "\n",
      "Cümle: Bir köpek sahibini bulmak için uzun bir yolculuğa çıktı.\n",
      "Embedding vektörü (ilk 5 değer): [-0.04950437  0.1303806  -0.04502174  0.00769444 -0.13266194]\n",
      "Vektör boyutu: 384\n",
      "\n",
      "Cümle: Kütüphanede eski bir kitap keşfedildi.\n",
      "Embedding vektörü (ilk 5 değer): [-0.01894585  0.10092076 -0.00982671 -0.04733798 -0.16191708]\n",
      "Vektör boyutu: 384\n",
      "\n",
      "Cümle: Dağ köyünde bir gece fırtına çıktı.\n",
      "Embedding vektörü (ilk 5 değer): [-0.01224027  0.08965991 -0.04288794  0.01671322 -0.10051307]\n",
      "Vektör boyutu: 384\n",
      "\n",
      "Cümle: Genç kadın yeni bir işe başladı.\n",
      "Embedding vektörü (ilk 5 değer): [-0.04467713  0.07863431  0.00552825  0.01675642 -0.10652079]\n",
      "Vektör boyutu: 384\n",
      "\n"
     ]
    }
   ],
   "source": [
    "for i, emb in enumerate(story_embeddings):\n",
    "    print(f\"Cümle: {stories[i]}\")\n",
    "    print(f\"Embedding vektörü (ilk 5 değer): {emb[:5]}\")\n",
    "    print(f\"Vektör boyutu: {len(emb)}\")\n",
    "    print()\n"
   ]
  },
  {
   "cell_type": "code",
   "execution_count": 51,
   "id": "a607a2bd",
   "metadata": {},
   "outputs": [
    {
     "name": "stdout",
     "output_type": "stream",
     "text": [
      "(384,)\n"
     ]
    }
   ],
   "source": [
    "sentence = \"Transformers mimarisi çok güçlüdür.\"\n",
    "embedding = model.encode(sentence)\n",
    "print(embedding.shape)"
   ]
  },
  {
   "cell_type": "markdown",
   "id": "3999642a",
   "metadata": {},
   "source": [
    "# 7. Cosine Benzerliğini Hesapla"
   ]
  },
  {
   "cell_type": "code",
   "execution_count": null,
   "id": "ba488cb5",
   "metadata": {},
   "outputs": [],
   "source": [
    "similarities = cosine_similarity([question_embedding], story_embeddings)\n",
    "best_match_idx = np.argmax(similarities)\n",
    "best_story = stories[best_match_idx]"
   ]
  },
  {
   "cell_type": "markdown",
   "id": "bed3504c",
   "metadata": {},
   "source": [
    "# 8. Groq ile Yanıt Oluştur"
   ]
  },
  {
   "cell_type": "code",
   "execution_count": 45,
   "id": "632a5aee",
   "metadata": {},
   "outputs": [],
   "source": [
    "client = Groq(api_key = groq_api_key)\n",
    "\n",
    "prompt = f\"\"\" \n",
    "Kullanıcı sorusu: {user_question},\n",
    "İlgili Hikaye: {best_story}\n",
    "\n",
    "Bu bilgileri kullanarak kullanıcı sorusunu cevapla.\n",
    "\"\"\""
   ]
  },
  {
   "cell_type": "code",
   "execution_count": 46,
   "id": "0613042b",
   "metadata": {},
   "outputs": [],
   "source": [
    "response = client.chat.completions.create(\n",
    "    messages=[\n",
    "        {\"role\": \"system\", \"content\": \"Sen bir hikaye yardımcısısın. Verilen hikayeyi kullanarak soruları cevapla.\"},\n",
    "        {\"role\": \"user\", \"content\": prompt}\n",
    "    ],\n",
    "    model=\"llama3-70b-8192\",\n",
    "    temperature = 0.7,\n",
    "    max_tokens = 500\n",
    ")"
   ]
  },
  {
   "cell_type": "code",
   "execution_count": 47,
   "id": "a8010298",
   "metadata": {},
   "outputs": [
    {
     "name": "stdout",
     "output_type": "stream",
     "text": [
      "Cevap: Üzgünüm, hikayede ormanda bir şey olmadı. Hikayede çocuklar okul bahçesinde oyun oynuyorlardı, ormanda hiçbir şey olmadı.\n",
      "\n",
      "İlgili Hikaye: Çocuklar okul bahçesinde oyun oynuyordu.\n"
     ]
    }
   ],
   "source": [
    "print(\"Cevap:\", response.choices[0].message.content)\n",
    "print(\"\\nİlgili Hikaye:\", best_story)"
   ]
  }
 ],
 "metadata": {
  "kernelspec": {
   "display_name": "Python 3",
   "language": "python",
   "name": "python3"
  },
  "language_info": {
   "codemirror_mode": {
    "name": "ipython",
    "version": 3
   },
   "file_extension": ".py",
   "mimetype": "text/x-python",
   "name": "python",
   "nbconvert_exporter": "python",
   "pygments_lexer": "ipython3",
   "version": "3.10.11"
  }
 },
 "nbformat": 4,
 "nbformat_minor": 5
}
