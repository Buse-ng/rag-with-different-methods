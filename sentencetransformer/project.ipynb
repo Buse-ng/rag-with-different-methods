{
 "cells": [
  {
   "cell_type": "markdown",
   "id": "37a9abda",
   "metadata": {},
   "source": [
    "Gerekli kütüphaneler"
   ]
  },
  {
   "cell_type": "code",
   "execution_count": null,
   "id": "3632c46f",
   "metadata": {},
   "outputs": [],
   "source": [
    "#env\n",
    "import os\n",
    "from dotenv import load_dotenv"
   ]
  },
  {
   "cell_type": "code",
   "execution_count": null,
   "id": "693752bd",
   "metadata": {},
   "outputs": [],
   "source": [
    "#embedding\n",
    "from sentence_transformers import SentenceTransformer"
   ]
  },
  {
   "cell_type": "code",
   "execution_count": null,
   "id": "eaf8eee8",
   "metadata": {},
   "outputs": [],
   "source": [
    "#cosine similarity\n",
    "from sklearn.metrics.pairwise import cosine_similarity\n",
    "import numpy as np"
   ]
  },
  {
   "cell_type": "code",
   "execution_count": null,
   "id": "5dd8bf8d",
   "metadata": {},
   "outputs": [],
   "source": [
    "# api call\n",
    "from groq import Groq"
   ]
  },
  {
   "cell_type": "markdown",
   "id": "55c78b6e",
   "metadata": {},
   "source": [
    "api_key erisim"
   ]
  },
  {
   "cell_type": "code",
   "execution_count": 10,
   "id": "2ab79be2",
   "metadata": {},
   "outputs": [
    {
     "name": "stdout",
     "output_type": "stream",
     "text": [
      "GROQ: gsk_p ...\n"
     ]
    }
   ],
   "source": [
    "load_dotenv()\n",
    "groq_api_key = os.getenv(\"GROQ_API_KEY\")\n",
    "print(\"GROQ:\", groq_api_key[:5], \"...\")"
   ]
  },
  {
   "cell_type": "markdown",
   "id": "2f4b784f",
   "metadata": {},
   "source": [
    "hikayeler"
   ]
  },
  {
   "cell_type": "code",
   "execution_count": 11,
   "id": "6996bace",
   "metadata": {},
   "outputs": [],
   "source": [
    "stories = [\n",
    "    \"Ormanda kaybolan bir grup maceracı vardı.\",\n",
    "    \"Küçük bir köyde herkes birbirine yardım ederdi.\",\n",
    "    \"Bir gün deniz kenarında ilginç bir taş bulundu.\",\n",
    "    \"Şehirde büyük bir festival düzenlendi.\",\n",
    "    \"Yaşlı adam her sabah parkta yürüyüş yapardı.\",\n",
    "    \"Çocuklar okul bahçesinde oyun oynuyordu.\",\n",
    "    \"Bir köpek sahibini bulmak için uzun bir yolculuğa çıktı.\",\n",
    "    \"Kütüphanede eski bir kitap keşfedildi.\",\n",
    "    \"Dağ köyünde bir gece fırtına çıktı.\",\n",
    "    \"Genç kadın yeni bir işe başladı.\"\n",
    "]"
   ]
  },
  {
   "cell_type": "markdown",
   "id": "c3a6de85",
   "metadata": {},
   "source": [
    "Embedding Modelinin Yüklenmesi"
   ]
  },
  {
   "cell_type": "code",
   "execution_count": null,
   "id": "e2991389",
   "metadata": {},
   "outputs": [
    {
     "name": "stderr",
     "output_type": "stream",
     "text": [
      "C:\\Users\\HP\\AppData\\Local\\Packages\\PythonSoftwareFoundation.Python.3.10_qbz5n2kfra8p0\\LocalCache\\local-packages\\Python310\\site-packages\\huggingface_hub\\file_download.py:943: FutureWarning: `resume_download` is deprecated and will be removed in version 1.0.0. Downloads always resume when possible. If you want to force a new download, use `force_download=True`.\n",
      "  warnings.warn(\n",
      "C:\\Users\\HP\\AppData\\Local\\Packages\\PythonSoftwareFoundation.Python.3.10_qbz5n2kfra8p0\\LocalCache\\local-packages\\Python310\\site-packages\\huggingface_hub\\file_download.py:943: FutureWarning: `resume_download` is deprecated and will be removed in version 1.0.0. Downloads always resume when possible. If you want to force a new download, use `force_download=True`.\n",
      "  warnings.warn(\n"
     ]
    }
   ],
   "source": [
    "embedding_model = SentenceTransformer(\"sentence-transformers/all-MiniLM-L6-v2\") #bu bir bert"
   ]
  },
  {
   "cell_type": "markdown",
   "id": "54fb475c",
   "metadata": {},
   "source": [
    "hikaye embedding"
   ]
  },
  {
   "cell_type": "code",
   "execution_count": null,
   "id": "3f37ab61",
   "metadata": {},
   "outputs": [],
   "source": [
    "story_embeddings = embedding_model.encode(stories)"
   ]
  },
  {
   "cell_type": "markdown",
   "id": "ff01a60d",
   "metadata": {},
   "source": [
    "soru"
   ]
  },
  {
   "cell_type": "code",
   "execution_count": 14,
   "id": "b4a9c8be",
   "metadata": {},
   "outputs": [],
   "source": [
    "user_question = \"Ormanda ne oldu?\""
   ]
  },
  {
   "cell_type": "markdown",
   "id": "e5532e1f",
   "metadata": {},
   "source": [
    "soru embedding"
   ]
  },
  {
   "cell_type": "code",
   "execution_count": 15,
   "id": "e62d6b54",
   "metadata": {},
   "outputs": [],
   "source": [
    "question_embedding = embedding_model.encode(user_question)"
   ]
  },
  {
   "cell_type": "markdown",
   "id": "8d3edf7d",
   "metadata": {},
   "source": [
    "cosine similarity"
   ]
  },
  {
   "cell_type": "code",
   "execution_count": 17,
   "id": "8c61b6f1",
   "metadata": {},
   "outputs": [],
   "source": [
    "similarities = cosine_similarity([question_embedding], story_embeddings)"
   ]
  },
  {
   "cell_type": "markdown",
   "id": "81411091",
   "metadata": {},
   "source": [
    "en yuksek cosine'a sahip olanı al"
   ]
  },
  {
   "cell_type": "code",
   "execution_count": 18,
   "id": "660eb83c",
   "metadata": {},
   "outputs": [],
   "source": [
    "best_match_idx = np.argmax(similarities)\n",
    "best_story = stories[best_match_idx]"
   ]
  },
  {
   "cell_type": "markdown",
   "id": "35b792f8",
   "metadata": {},
   "source": [
    "en yuksek cosine'lıyı yazdır"
   ]
  },
  {
   "cell_type": "code",
   "execution_count": 20,
   "id": "5ac7dd4c",
   "metadata": {},
   "outputs": [
    {
     "name": "stdout",
     "output_type": "stream",
     "text": [
      "En iyi hikaye: Çocuklar okul bahçesinde oyun oynuyordu.\n"
     ]
    }
   ],
   "source": [
    "print(\"En iyi hikaye:\", best_story)"
   ]
  },
  {
   "cell_type": "markdown",
   "id": "243f7598",
   "metadata": {},
   "source": [
    "groq api call yap"
   ]
  },
  {
   "cell_type": "code",
   "execution_count": 23,
   "id": "a7627881",
   "metadata": {},
   "outputs": [],
   "source": [
    "client = Groq(api_key = groq_api_key)\n",
    "prompt = f\"\"\" \n",
    "    Kullanıcı sorusu: {user_question},\n",
    "    İlgili Hikaye: {best_story}\n",
    "\"\"\""
   ]
  },
  {
   "cell_type": "code",
   "execution_count": 27,
   "id": "e97b1f65",
   "metadata": {},
   "outputs": [],
   "source": [
    "response = client.chat.completions.create(\n",
    "  messages = [\n",
    "    {\"role\": \"system\", \"content\":\"Sen bir hikaye yardımcısısın. Verilen hikayeyi kullanarak soruları yanıtla.\"},\n",
    "    {\"role\": \"user\", \"content\": prompt}\n",
    "  ],\n",
    "  model = \"llama3-70b-8192\",\n",
    "  temperature = 0.7,\n",
    "  max_tokens = 500\n",
    ")"
   ]
  },
  {
   "cell_type": "code",
   "execution_count": 29,
   "id": "939ec733",
   "metadata": {},
   "outputs": [
    {
     "name": "stdout",
     "output_type": "stream",
     "text": [
      "Cevap: Bu hikayede ormanda hiçbir şey olmaz, çünkü hikaye okul bahçesinde geçiyor.\n",
      "\n",
      "İlgili Hikaye: Çocuklar okul bahçesinde oyun oynuyordu.\n"
     ]
    }
   ],
   "source": [
    "print(\"Cevap:\", response.choices[0].message.content)\n",
    "print(\"\\nİlgili Hikaye:\", best_story)"
   ]
  }
 ],
 "metadata": {
  "kernelspec": {
   "display_name": "Python 3",
   "language": "python",
   "name": "python3"
  },
  "language_info": {
   "codemirror_mode": {
    "name": "ipython",
    "version": 3
   },
   "file_extension": ".py",
   "mimetype": "text/x-python",
   "name": "python",
   "nbconvert_exporter": "python",
   "pygments_lexer": "ipython3",
   "version": "3.10.11"
  }
 },
 "nbformat": 4,
 "nbformat_minor": 5
}
