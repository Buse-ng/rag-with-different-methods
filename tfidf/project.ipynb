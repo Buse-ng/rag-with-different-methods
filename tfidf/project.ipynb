{
 "cells": [
  {
   "cell_type": "code",
   "execution_count": null,
   "id": "87c26022",
   "metadata": {},
   "outputs": [],
   "source": [
    "from sklearn.feature_extraction.text import TfidfVectorizer #TfidfVectorizer: Metinleri sayısal vektörlere (embedding) dönüştürmek için kullanılır. Her kelimenin önemini ölçer.\n",
    "from sklearn.metrics.pairwise import cosine_similarity #İki vektör arasındaki benzerliği (cosine similarity) hesaplar.\n",
    "import numpy as np\n",
    "import pickle"
   ]
  },
  {
   "cell_type": "markdown",
   "id": "f0efe3c1",
   "metadata": {},
   "source": [
    "1. Adım: Hikayeleri ve Soruyu Tanımla"
   ]
  },
  {
   "cell_type": "code",
   "execution_count": 2,
   "id": "c70e6a52",
   "metadata": {},
   "outputs": [],
   "source": [
    "hikayeler = [\n",
    "    \"Ormanda kaybolan bir grup maceracı vardı.\",\n",
    "    \"Küçük bir köyde herkes birbirine yardım ederdi.\",\n",
    "    \"Bir gün deniz kenarında ilginç bir taş bulundu.\",\n",
    "    \"Şehirde büyük bir festival düzenlendi.\",\n",
    "    \"Yaşlı adam her sabah parkta yürüyüş yapardı.\",\n",
    "    \"Çocuklar okul bahçesinde oyun oynuyordu.\",\n",
    "    \"Bir köpek sahibini bulmak için uzun bir yolculuğa çıktı.\",\n",
    "    \"Kütüphanede eski bir kitap keşfedildi.\",\n",
    "    \"Dağ köyünde bir gece fırtına çıktı.\",\n",
    "    \"Genç kadın yeni bir işe başladı.\"\n",
    "]"
   ]
  },
  {
   "cell_type": "code",
   "execution_count": 3,
   "id": "cc73ec17",
   "metadata": {},
   "outputs": [],
   "source": [
    "sorular = [\n",
    "    \"Ormanda ne oldu?\",\n",
    "    \"Köyde kimler yaşıyor?\",\n",
    "    \"Deniz kenarında ne bulundu?\",\n",
    "    \"Festival nerede düzenlendi?\",\n",
    "    \"Parkta kim yürüyüş yapıyor?\",\n",
    "    \"Okul bahçesinde kimler var?\",\n",
    "    \"Köpek ne yaptı?\",\n",
    "    \"Kütüphanede ne bulundu?\",\n",
    "    \"Dağ köyünde ne oldu?\",\n",
    "    \"Kim yeni bir işe başladı?\"\n",
    "]\n"
   ]
  },
  {
   "cell_type": "markdown",
   "id": "2c4ab318",
   "metadata": {},
   "source": [
    "2. Adım: Fonksiyon: En uygun hikaye ve benzerlik skorunu bul"
   ]
  },
  {
   "cell_type": "code",
   "execution_count": null,
   "id": "95ef0635",
   "metadata": {},
   "outputs": [],
   "source": [
    "def embedding_ve_benzerlik_hesapla(hikayeler, soru):\n",
    "    tum_metinler = hikayeler + [soru] # Tüm metinleri (hikayeler + soru) birleştir\n",
    "    vectorizer = TfidfVectorizer() \n",
    "    \n",
    "    tfidf_matrisi = vectorizer.fit_transform(tum_metinler) #fit_transform: tüm_metinler listesindeki her metni sayısal vektöre çevirir. \n",
    "    # Sonuç: (11, n) boyutunda bir matris (11 metin, n kelime).\n",
    "    \n",
    "    # Hikaye ve soru embeddinglerini ayır\n",
    "    hikaye_embeddingleri = tfidf_matrisi[:-1] #hikaye_embeddingleri: Son satır hariç tüm satırlar (ilk 10 satır) hikaye embeddingleri olur.\n",
    "    soru_embedding = tfidf_matrisi[-1] # soru_embedding: Son satır ([-1]) soru embeddingidir.\n",
    "    \n",
    "    # Cosine Similarity Hesaplama: Her hikaye ile sorunun embedding'i arasındaki benzerliği bulalım.\n",
    "    benzerlikler = cosine_similarity(soru_embedding, hikaye_embeddingleri).flatten()\n",
    "    # flatten(): Sonucu tek boyutlu diziye çevirir (10 elemanlı bir liste).\n",
    "\n",
    "    # En yüksek benzerliğe sahip hikayeyi bulalım.\n",
    "    en_yuksek_indeks = np.argmax(benzerlikler) #np.argmax: En yüksek benzerlik değerinin indeksini bulur.\n",
    "    en_yuksek_benzerlik = benzerlikler[en_yuksek_indeks]\n",
    "    en_uygun_hikaye = hikayeler[en_yuksek_indeks]\n",
    "    return en_uygun_hikaye, en_yuksek_benzerlik"
   ]
  },
  {
   "cell_type": "markdown",
   "id": "4bdc32df",
   "metadata": {},
   "source": [
    "3. Tüm sorular için otomatik test ve sonuçları toplama"
   ]
  },
  {
   "cell_type": "code",
   "execution_count": 5,
   "id": "9f4bb1b2",
   "metadata": {},
   "outputs": [],
   "source": [
    "sonuclar = []\n",
    "for soru in sorular:\n",
    "    en_uygun_hikaye, benzerlik = embedding_ve_benzerlik_hesapla(hikayeler, soru)\n",
    "    sonuclar.append({\n",
    "        \"soru\": soru,\n",
    "        \"en_uygun_hikaye\": en_uygun_hikaye,\n",
    "        \"benzerlik\": benzerlik\n",
    "    })"
   ]
  },
  {
   "cell_type": "markdown",
   "id": "ef192bf6",
   "metadata": {},
   "source": [
    " 4. Sonuçları pickle ile dosyaya kaydet\n"
   ]
  },
  {
   "cell_type": "code",
   "execution_count": 6,
   "id": "34d79517",
   "metadata": {},
   "outputs": [
    {
     "name": "stdout",
     "output_type": "stream",
     "text": [
      "Tüm sorular işlendi ve sonuçlar 'sonuclar.pickle' dosyasına kaydedildi.\n"
     ]
    }
   ],
   "source": [
    "# Sonuçları kaydet\n",
    "with open(\"sonuclar.pickle\", \"wb\") as f:\n",
    "    pickle.dump(sonuclar, f)\n",
    "print(\"Tüm sorular işlendi ve sonuçlar 'sonuclar.pickle' dosyasına kaydedildi.\")"
   ]
  },
  {
   "cell_type": "markdown",
   "id": "84dcb778",
   "metadata": {},
   "source": [
    "5. Sonuçları tekrar yükleyip ekrana yazdırma"
   ]
  },
  {
   "cell_type": "code",
   "execution_count": 8,
   "id": "2e4d2ead",
   "metadata": {},
   "outputs": [
    {
     "name": "stdout",
     "output_type": "stream",
     "text": [
      "Soru: Ormanda ne oldu?\n",
      "En uygun hikaye: Ormanda kaybolan bir grup maceracı vardı.\n",
      "Benzerlik skoru: 0.199\n",
      "----------------------------------------\n",
      "Soru: Köyde kimler yaşıyor?\n",
      "En uygun hikaye: Küçük bir köyde herkes birbirine yardım ederdi.\n",
      "Benzerlik skoru: 0.181\n",
      "----------------------------------------\n",
      "Soru: Deniz kenarında ne bulundu?\n",
      "En uygun hikaye: Bir gün deniz kenarında ilginç bir taş bulundu.\n",
      "Benzerlik skoru: 0.499\n",
      "----------------------------------------\n",
      "Soru: Festival nerede düzenlendi?\n",
      "En uygun hikaye: Şehirde büyük bir festival düzenlendi.\n",
      "Benzerlik skoru: 0.486\n",
      "----------------------------------------\n",
      "Soru: Parkta kim yürüyüş yapıyor?\n",
      "En uygun hikaye: Yaşlı adam her sabah parkta yürüyüş yapardı.\n",
      "Benzerlik skoru: 0.309\n",
      "----------------------------------------\n",
      "Soru: Okul bahçesinde kimler var?\n",
      "En uygun hikaye: Çocuklar okul bahçesinde oyun oynuyordu.\n",
      "Benzerlik skoru: 0.372\n",
      "----------------------------------------\n",
      "Soru: Köpek ne yaptı?\n",
      "En uygun hikaye: Bir köpek sahibini bulmak için uzun bir yolculuğa çıktı.\n",
      "Benzerlik skoru: 0.164\n",
      "----------------------------------------\n",
      "Soru: Kütüphanede ne bulundu?\n",
      "En uygun hikaye: Kütüphanede eski bir kitap keşfedildi.\n",
      "Benzerlik skoru: 0.235\n",
      "----------------------------------------\n",
      "Soru: Dağ köyünde ne oldu?\n",
      "En uygun hikaye: Dağ köyünde bir gece fırtına çıktı.\n",
      "Benzerlik skoru: 0.374\n",
      "----------------------------------------\n",
      "Soru: Kim yeni bir işe başladı?\n",
      "En uygun hikaye: Genç kadın yeni bir işe başladı.\n",
      "Benzerlik skoru: 0.618\n",
      "----------------------------------------\n"
     ]
    }
   ],
   "source": [
    "with open(\"sonuclar.pickle\", \"rb\") as f:\n",
    "    yuklenen_sonuclar = pickle.load(f)\n",
    "    \n",
    "for sonuc in yuklenen_sonuclar:\n",
    "    print(f\"Soru: {sonuc['soru']}\")\n",
    "    print(f\"En uygun hikaye: {sonuc['en_uygun_hikaye']}\")\n",
    "    print(f\"Benzerlik skoru: {sonuc['benzerlik']:.3f}\")\n",
    "    print(\"-\" * 40)"
   ]
  }
 ],
 "metadata": {
  "kernelspec": {
   "display_name": "Python 3",
   "language": "python",
   "name": "python3"
  },
  "language_info": {
   "codemirror_mode": {
    "name": "ipython",
    "version": 3
   },
   "file_extension": ".py",
   "mimetype": "text/x-python",
   "name": "python",
   "nbconvert_exporter": "python",
   "pygments_lexer": "ipython3",
   "version": "3.10.11"
  }
 },
 "nbformat": 4,
 "nbformat_minor": 5
}
