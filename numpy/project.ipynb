{
 "cells": [
  {
   "cell_type": "code",
   "execution_count": 4,
   "id": "5113f1b1",
   "metadata": {},
   "outputs": [],
   "source": [
    "import numpy as np\n",
    "from sklearn.metrics.pairwise import cosine_similarity"
   ]
  },
  {
   "cell_type": "code",
   "execution_count": 5,
   "id": "6e831c71",
   "metadata": {},
   "outputs": [],
   "source": [
    "stories = [\n",
    "    \"Hikaye 1 metni.\",\n",
    "    \"Hikaye 2 metni.\",\n",
    "    \"Hikaye 3 metni.\",\n",
    "    \"Hikaye 4 metni.\",\n",
    "    \"Hikaye 5 metni.\",\n",
    "    \"Hikaye 6 metni.\",\n",
    "    \"Hikaye 7 metni.\",\n",
    "    \"Hikaye 8 metni.\",\n",
    "    \"Hikaye 9 metni.\",\n",
    "    \"Hikaye 10 metni.\"\n",
    "]"
   ]
  },
  {
   "cell_type": "code",
   "execution_count": null,
   "id": "d1531487",
   "metadata": {},
   "outputs": [],
   "source": [
    "\n",
    "def get_embedding(text):\n",
    "    return np.array([sum(ord(c) for c in text) / len(text)])"
   ]
  },
  {
   "cell_type": "code",
   "execution_count": null,
   "id": "024f18e3",
   "metadata": {},
   "outputs": [],
   "source": [
    "# Hikayelerin embeddingleri\n",
    "story_embeddings = [get_embedding(story) for story in stories]"
   ]
  },
  {
   "cell_type": "code",
   "execution_count": null,
   "id": "f6d6f477",
   "metadata": {},
   "outputs": [],
   "source": [
    "\n",
    "user_question = \"Örnek soru?\""
   ]
  },
  {
   "cell_type": "code",
   "execution_count": null,
   "id": "9eb6d634",
   "metadata": {},
   "outputs": [],
   "source": [
    "\n",
    "question_embedding = get_embedding(user_question)"
   ]
  },
  {
   "cell_type": "code",
   "execution_count": null,
   "id": "ddb05270",
   "metadata": {},
   "outputs": [],
   "source": [
    "\n",
    "cosine_similarities = cosine_similarity([question_embedding], story_embeddings)"
   ]
  },
  {
   "cell_type": "code",
   "execution_count": null,
   "id": "74189c96",
   "metadata": {},
   "outputs": [],
   "source": [
    "# En yüksek benzerliğe sahip hikaye\n",
    "best_match_index = np.argmax(cosine_similarities)\n",
    "best_match_embedding = story_embeddings[best_match_index]\n",
    "best_match_text = stories[best_match_index]"
   ]
  },
  {
   "cell_type": "code",
   "execution_count": 12,
   "id": "6b0e6ec7",
   "metadata": {},
   "outputs": [
    {
     "name": "stdout",
     "output_type": "stream",
     "text": [
      "En iyi eşleşen hikaye: Hikaye 1 metni.\n",
      "Hikaye embedding: [86.86666667]\n",
      "Cosine similarity: 1.0\n"
     ]
    }
   ],
   "source": [
    "print(\"En iyi eşleşen hikaye:\", best_match_text)\n",
    "print(\"Hikaye embedding:\", best_match_embedding)\n",
    "print(\"Cosine similarity:\", cosine_similarities[0][best_match_index])"
   ]
  }
 ],
 "metadata": {
  "kernelspec": {
   "display_name": "Python 3",
   "language": "python",
   "name": "python3"
  },
  "language_info": {
   "codemirror_mode": {
    "name": "ipython",
    "version": 3
   },
   "file_extension": ".py",
   "mimetype": "text/x-python",
   "name": "python",
   "nbconvert_exporter": "python",
   "pygments_lexer": "ipython3",
   "version": "3.10.11"
  }
 },
 "nbformat": 4,
 "nbformat_minor": 5
}
