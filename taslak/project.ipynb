{
 "cells": [
  {
   "cell_type": "code",
   "execution_count": null,
   "id": "505d139f",
   "metadata": {
    "vscode": {
     "languageId": "plaintext"
    }
   },
   "outputs": [],
   "source": [
    "pip install openai scikit-learn python-dotenv tqdm\n"
   ]
  },
  {
   "cell_type": "code",
   "execution_count": null,
   "id": "21f533e8",
   "metadata": {
    "vscode": {
     "languageId": "plaintext"
    }
   },
   "outputs": [],
   "source": [
    "OPENAI_API_KEY=sk-xxxxxxxxxxxxxxxxxxxxxxxxxxxxxxxxxxxxxxxx"
   ]
  },
  {
   "cell_type": "code",
   "execution_count": null,
   "id": "7dc467db",
   "metadata": {
    "vscode": {
     "languageId": "plaintext"
    }
   },
   "outputs": [],
   "source": [
    "import openai\n",
    "import json\n",
    "import os\n",
    "from dotenv import load_dotenv\n",
    "from tqdm import tqdm\n",
    "\n",
    "load_dotenv()\n",
    "openai.api_key = os.getenv(\"OPENAI_API_KEY\")\n",
    "\n",
    "# Örnek 10 hikaye\n",
    "hikayeler = [\n",
    "    \"Bir zamanlar küçük bir köyde yaşayan Ali adında bir çocuk vardı...\",\n",
    "    \"Derin ormanların arasında kaybolan bir keşif ekibi vardı...\",\n",
    "    \"Uzak bir galakside yaşayan robotların dünyası...\",\n",
    "    # ... toplam 10 tane olacak şekilde devam ettir\n",
    "]\n",
    "\n",
    "embedding_listesi = []\n",
    "\n",
    "for hikaye in tqdm(hikayeler):\n",
    "    response = openai.Embedding.create(\n",
    "        input=hikaye,\n",
    "        model=\"text-embedding-3-small\"\n",
    "    )\n",
    "    embedding = response[\"data\"][0][\"embedding\"]\n",
    "    embedding_listesi.append({\n",
    "        \"text\": hikaye,\n",
    "        \"embedding\": embedding\n",
    "    })\n",
    "\n",
    "# JSON olarak kaydet\n",
    "with open(\"hikayeler_embedding.json\", \"w\", encoding=\"utf-8\") as f:\n",
    "    json.dump(embedding_listesi, f, ensure_ascii=False, indent=2)\n"
   ]
  },
  {
   "cell_type": "code",
   "execution_count": null,
   "id": "911f6f42",
   "metadata": {
    "vscode": {
     "languageId": "plaintext"
    }
   },
   "outputs": [],
   "source": [
    "from sklearn.metrics.pairwise import cosine_similarity\n",
    "import numpy as np\n",
    "\n",
    "# Kullanıcıdan soru al\n",
    "soru = input(\"Sorunuzu girin: \")\n",
    "\n",
    "# Soru embedding\n",
    "soru_embedding = openai.Embedding.create(\n",
    "    input=soru,\n",
    "    model=\"text-embedding-3-small\"\n",
    ")[\"data\"][0][\"embedding\"]\n",
    "\n",
    "# Daha önce kaydedilen hikayeleri yükle\n",
    "with open(\"hikayeler_embedding.json\", \"r\", encoding=\"utf-8\") as f:\n",
    "    hikaye_verisi = json.load(f)\n",
    "\n",
    "# Cosine similarity hesapla\n",
    "benzerlikler = []\n",
    "for item in hikaye_verisi:\n",
    "    cos_sim = cosine_similarity(\n",
    "        [soru_embedding],\n",
    "        [item[\"embedding\"]]\n",
    "    )[0][0]\n",
    "    benzerlikler.append(cos_sim)\n",
    "\n",
    "# En yüksek benzerliği bul\n",
    "en_yakin_index = np.argmax(benzerlikler)\n",
    "en_yakin_hikaye = hikaye_verisi[en_yakin_index][\"text\"]\n",
    "\n",
    "print(f\"\\nEn yakın hikaye:\\n{en_yakin_hikaye}\")\n",
    "print(f\"\\nBu cevap RAG verisine dayanmaktadır. Cosine Benzerlik: {benzerlikler[en_yakin_index]:.4f}\")\n"
   ]
  },
  {
   "cell_type": "code",
   "execution_count": null,
   "id": "04940b6b",
   "metadata": {
    "vscode": {
     "languageId": "plaintext"
    }
   },
   "outputs": [],
   "source": [
    "cevap = openai.ChatCompletion.create(\n",
    "    model=\"gpt-4\",\n",
    "    messages=[\n",
    "        {\"role\": \"system\", \"content\": \"Sen bir yardımcı asistansın. Verilen hikâyeyi kullanarak kullanıcının sorusunu yanıtla. Eğer cevap hikâyeden alınamıyorsa 'Bu hikâyede doğrudan bir yanıt bulunmamaktadır.' de.\"},\n",
    "        {\"role\": \"user\", \"content\": f\"Hikaye:\\n{en_yakin_hikaye}\\n\\nSoru:\\n{soru}\"}\n",
    "    ]\n",
    ")\n",
    "\n",
    "print(\"\\n🔍 Cevap:\")\n",
    "print(cevap[\"choices\"][0][\"message\"][\"content\"])\n"
   ]
  }
 ],
 "metadata": {
  "language_info": {
   "name": "python"
  }
 },
 "nbformat": 4,
 "nbformat_minor": 5
}
