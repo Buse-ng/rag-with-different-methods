{
 "cells": [
  {
   "cell_type": "code",
   "execution_count": 12,
   "id": "0a507261",
   "metadata": {},
   "outputs": [],
   "source": [
    "# kütüphaneler\n",
    "import os\n",
    "from dotenv import load_dotenv\n",
    "\n",
    "from groq import Groq #api call\n",
    "\n",
    "from sentence_transformers import SentenceTransformer #embedding  \n",
    "\n",
    "from sklearn.metrics.pairwise import cosine_similarity #rag\n",
    "import numpy as np "
   ]
  },
  {
   "cell_type": "code",
   "execution_count": 13,
   "id": "4b402e72",
   "metadata": {},
   "outputs": [],
   "source": [
    "load_dotenv()\n",
    "groq_api_key = os.getenv(\"GROQ_API_KEY\")\n",
    "client = Groq(api_key=groq_api_key)"
   ]
  },
  {
   "cell_type": "code",
   "execution_count": 14,
   "id": "8ab903ee",
   "metadata": {},
   "outputs": [
    {
     "name": "stderr",
     "output_type": "stream",
     "text": [
      "C:\\Users\\HP\\AppData\\Local\\Packages\\PythonSoftwareFoundation.Python.3.10_qbz5n2kfra8p0\\LocalCache\\local-packages\\Python310\\site-packages\\huggingface_hub\\file_download.py:943: FutureWarning: `resume_download` is deprecated and will be removed in version 1.0.0. Downloads always resume when possible. If you want to force a new download, use `force_download=True`.\n",
      "  warnings.warn(\n"
     ]
    }
   ],
   "source": [
    "groq_model = \"llama3-8b-8192\"\n",
    "embed_model = SentenceTransformer(\"emrecan/bert-base-turkish-cased-mean-nli-stsb-tr\") #hugging face model"
   ]
  },
  {
   "cell_type": "code",
   "execution_count": 15,
   "id": "915b46a6",
   "metadata": {},
   "outputs": [],
   "source": [
    "#degiskenlerim\n",
    "\n",
    "initial_prompt = \"Bir macera hikayesi başlat. Her chunk yaklaşık 50-60 kelime olsun. Hikaye toplamda 10 parçadan oluşacak ve her parça bir öncekine bağlı şekilde ilerleyecek. Türkçe olsun\"\n",
    "\n",
    "stories_chunks = []"
   ]
  },
  {
   "cell_type": "code",
   "execution_count": null,
   "id": "573b287a",
   "metadata": {},
   "outputs": [],
   "source": [
    "#api call \n",
    "\n",
    "call_messages = [{\"role\":\"system\", \"content\":initial_prompt}]\n",
    "\n",
    "for i in range(10):\n",
    "  if i == 0:\n",
    "    user_prompt = \"İlk chunkı ver\"\n",
    "  else:\n",
    "    user_prompt = f\" {i+1}. chunkı ver \"\n",
    "    \n",
    "  call_messages.append({\"role\":\"user\", \"content\":user_prompt})\n",
    "  \n",
    "  response = client.chat.completions.create(\n",
    "    messages=call_messages,\n",
    "    model=groq_model\n",
    "  )\n",
    "  chunk = response.choices[0].message.content\n",
    "  stories_chunks.append(chunk) \n",
    "  \n",
    "  call_messages.append({\"role\":\"assistant\", \"content\":chunk})"
   ]
  },
  {
   "cell_type": "code",
   "execution_count": 17,
   "id": "44e7dd91",
   "metadata": {},
   "outputs": [
    {
     "data": {
      "text/plain": [
       "[{'role': 'system',\n",
       "  'content': 'Bir macera hikayesi başlat. Her chunk yaklaşık 50-60 kelime olsun. Hikaye toplamda 10 parçadan oluşacak ve her parça bir öncekine bağlı şekilde ilerleyecek. Türkçe olsun'},\n",
       " {'role': 'user', 'content': 'İlk chunkı ver'},\n",
       " {'role': 'assistant',\n",
       "  'content': 'Here\\'s the first chunk of the adventure story:\\n\\n\"Köşkeş, küçük bir kasabanın ortasında uzanan dar bir sokakta yaşıyordu. Öğrenci yıllarını tamamlamış, fakat henüz bir işe sahip değildi. Günün birinde, kasabanın yaşlı bir dükkân sahibi olan Hüsnü\\'den bir message aldı. Mesajda, bir süre önce kaybettiği bir akrabasının mirasınımirına terk etmek için bir görev verdi. Köşkeş, Hüsnü\\'nünvido olduktadiyordu, ancak mirasa sahiplendiğini duymak için heyecanlıydı. O sabah, Köşkeş kasabaya.walk için çıktı ve Hüsnü\\'nün dükkânına geldi. Dükkân sahibi, Köşkeş\\'i selamladı ve mesajını tekrar etti. \\'Mirastime\\' dedi, \\'seni arar.\\'\"\\n\\n(Note: This is just the first chunk of the story, and it will continue in the next chunks)'},\n",
       " {'role': 'user', 'content': ' 2. chunkı ver '},\n",
       " {'role': 'assistant',\n",
       "  'content': 'Here\\'s the second chunk of the adventure story:\\n\\n\"Hüsnü\\'nün dürüst looked at Köşkeş and said, \\'Mirastime, now is the last of my family, but not everyone is happy about it. There are those who think the inheritance should go to someone else.\\' Köşkeş\\'s curiosity was piqued, and he asked, \\'Who is that someone else?\\' Hüsnü\\'s expression turned serious, and he said, \\'Ahmed, my distant cousin, has been trying to get his hands on the inheritance for years. He\\'s a ruthless man, and I\\'m afraid he\\'ll stop at nothing to get what he wants. I need you to go to Ahmed\\'s mansion and retrieve a document that will prove the rightful heir\\'s identity.\\' Köşkeş nodded, feeling a sense of responsibility wash over him, and set off towards Ahmed\\'s mansion, located on the outskirts of the village.\"'},\n",
       " {'role': 'user', 'content': ' 3. chunkı ver '},\n",
       " {'role': 'assistant',\n",
       "  'content': 'Here\\'s the third chunk of the adventure story:\\n\\n\"As Köşkeş approached Ahmed\\'s mansion, he couldn\\'t help but feel a sense of unease. The mansion loomed over the surrounding village, its tall walls and turrets giving off an air of foreboding. Köşkeş knocked on the massive wooden doors, and after a moment, they creaked open to reveal a gaunt butler. \\'Can I help you?\\' the butler asked, his voice dripping with disdain. Köşkeş explained his mission, and the butler\\'s expression turned indifferent. \\'Ahmed is not available to see you,\\' he said. \\'He\\'s busy with... matters.\\' Köşkeş\\'s instincts told him that the butler was hiding something, and he pushed on, \\'Can I at least see the document? I\\'m on a mission to verify the rightful heir\\'s identity.\\' The butler\\'s eyes narrowed, and Köşkeş sensed a subtle nod, before the butler disappeared into the mansion, leaving Köşkeş to wonder what was going on.\"'},\n",
       " {'role': 'user', 'content': ' 4. chunkı ver '},\n",
       " {'role': 'assistant',\n",
       "  'content': 'Here\\'s the fourth chunk of the adventure story:\\n\\n\"Köşkeş was about to give up when the butler returned with a parchment in hand. \\'Ahmed has authorized me to give you this,\\' he said, his tone cold and distant. As Köşkeş took the parchment, he noticed that it was old and worn, with strange symbols etched into the margins. He unfolded it, and his eyes widened as he saw that it was a map, leading to a location deep in the nearby forest. A small X marked the spot, with the words \\'The Eye of the Oracle\\' written above it. Köşkeş\\'s mind raced with questions. What did this map lead to? And what was the Eye of the Oracle? He looked up to see the butler watching him, his expression unreadable. \\'What does it mean?\\' Köşkeş asked, but the butler simply turned and disappeared back into the mansion, leaving Köşkeş to ponder the mystery.\"'},\n",
       " {'role': 'user', 'content': ' 5. chunkı ver '},\n",
       " {'role': 'assistant',\n",
       "  'content': 'Here\\'s the fifth chunk of the adventure story:\\n\\n\"Köşkeş decided to investigate further and set off towards the forest, following the map. As he walked, the trees grew taller and the path grew narrower, until he found himself lost in a dense thicket. He looked around, trying to get his bearings, and that\\'s when he saw it - a glowing stone in the distance, embedded in the trunk of a ancient tree. As he approached, he felt a strange energy emanating from it, and suddenly, the stone began to glow brighter. Köşkeş shielded his eyes, and when he opened them again, he saw a figure emerge from the shadows. It was an old woman, with eyes that seemed to see right through him. \\'Welcome, Köşkeş,\\' she said, her voice low and mysterious. \\'I have been waiting for you. You are seeking the Eye of the Oracle, are you not?\\' Köşkeş nodded, and the old woman smiled, \\'Then you shall find it... but first, you must answer my riddle.\\'\"'},\n",
       " {'role': 'user', 'content': ' 6. chunkı ver '},\n",
       " {'role': 'assistant',\n",
       "  'content': 'Here\\'s the sixth chunk of the adventure story:\\n\\n\"The old woman\\'s eyes sparkled with mischief as she posed her riddle: \\'What can be broken, but never held? What can be given, but never sold?\\' Köşkeş thought hard, trying to come up with an answer. He thought of many things - a promise, a vow, a secret - but none of them seemed quite right. The old woman\\'s smile grew wider, as if she could see the frustration in his eyes. \\'Ah, Köşkeş,\\' she said, \\'you are so close. But you must think like a true adventurer.\\' Suddenly, a flash of inspiration struck him. \\'Is the answer a word?\\' he asked. The old woman\\'s eyes lit up, and she nodded. \\'Ah, yes! A word! You see, Köşkeş, words can be broken - by misinterpretation, by mistake, or by intention. But they are never held, for they are mere spoken or written sounds. And words can be given, but never sold, for they are free to be passed on or kept to oneself.\\' Köşkeş felt a sense of excitement and accomplishment as the old woman nodded in approval. \\'Very good, Köşkeş. You have passed the test. Now, come.\\' She led him deeper into the forest, towards the mysterious Eye of the Oracle.\"'},\n",
       " {'role': 'user', 'content': ' 7. chunkı ver '},\n",
       " {'role': 'assistant',\n",
       "  'content': 'Here\\'s the seventh chunk of the adventure story:\\n\\n\"As they walked, the trees grew taller and the air grew thick with an otherworldly energy. Köşkeş felt a strange tingling in his fingers, as if the very fabric of reality was shifting. The old woman led him to a clearing, where a glowing crystal orb sat atop a pedestal. The orb pulsed with an intense blue light, and Köşkeş could feel its power calling to him. \\'This is the Eye of the Oracle,\\' the old woman said, her voice reverent. \\'It holds the secrets of the past, present, and future. But beware, Köşkeş, for the Eye is not to be trifled with. It demands a price for its wisdom.\\' Köşkeş felt a surge of trepidation, but his determination to uncover the truth overcame his fears. \\'I\\'m willing to pay the price,\\' he said, his voice steady. The old woman nodded, and the orb began to glow brighter. \\'Then let us begin,\\' she said, and Köşkeş felt himself being drawn into the heart of the Eye.\"'},\n",
       " {'role': 'user', 'content': ' 8. chunkı ver '},\n",
       " {'role': 'assistant',\n",
       "  'content': 'Here\\'s the eighth chunk of the adventure story:\\n\\n\"As Köşkeş gazed into the Eye of the Oracle, he felt his mind expanding, as if it was being pulled apart and put back together again. Visions flashed before his eyes: a young girl with a scar on her cheek, a old man with a wispy beard, a dark forest stretching out before him. The visions were fleeting, but Köşkeş felt he was being shown fragments of a larger truth. The old woman watched him with an intense gaze, as if she was measuring the depth of his understanding. \\'What do you see?\\' she asked, her voice low and hypnotic. Köşkeş struggled to put the visions into words, but the old woman nodded, as if she already knew the answer. \\'I see the past,\\' he said, \\'the threads that bind us together. I see the web of fate that weaves our lives together.\\' The old woman\\'s eyes sparkled with approval. \\'You are beginning to see,\\' she said. \\'The Eye is revealing its secrets to you. But there is more to come, Köşkeş. Are you prepared to face what lies ahead?\\' Köşkeş felt a shiver run down his spine, as he realized that he had only scratched the surface of the Eye\\'s power.\"'},\n",
       " {'role': 'user', 'content': ' 9. chunkı ver '},\n",
       " {'role': 'assistant',\n",
       "  'content': 'Here\\'s the ninth chunk of the adventure story:\\n\\n\"The old woman\\'s words hung in the air like a challenge, and Köşkeş felt his hesitation immediately. What lay ahead was unknown, and a part of him wanted to turn back, to leave the Eye\\'s secrets unspoken. But another part of him, the part that had driven him to this moment, urged him forward. \\'I\\'m ready,\\' he said, his voice firm. The old woman\\'s eyes narrowed, as if she was testing him. \\'Very well,\\' she said. \\'Look deeper, Köşkeş. See what lies at the heart of the Eye.\\' And with that, Köşkeş felt himself being drawn into the depths of the crystal orb once more. The visions grew stronger, more vivid, as if the Eye was revealing its secrets to him in rapid succession. He saw the threads of fate that bound the world together, the hidden patterns that governed the lives of all living things. He saw the dark forest, and the girl with the scar on her cheek, and the old man with the wispy beard. And he saw Ahmed, the ruthless cousin, his face twisted with a mixture of greed and desperation. The visions swirled around him, a kaleidoscope of images and emotions, as the Eye of the Oracle revealed the truth to him.\"'},\n",
       " {'role': 'user', 'content': ' 10. chunkı ver '},\n",
       " {'role': 'assistant',\n",
       "  'content': 'Here\\'s the final chunk of the adventure story:\\n\\n\"As Köşkeş emerged from the Eye of the Oracle, he felt his mind reeling from the revelations. The secrets he had uncovered would change him forever, and he knew that he could never go back to his old life. The old woman was waiting for him, her eyes sparkling with a knowing glint. \\'So, Köşkeş,\\' she said, \\'what do you see now?\\' Köşkeş took a deep breath, and his voice filled with conviction. \\'I see the truth,\\' he said. \\'I see that Ahmed is not the rightful heir, and that my quest has been to protect the inheritance from those who would misuse it.\\' The old woman nodded, her face serene. \\'You have passed the test, Köşkeş. You have seen the truth, and you have been chosen to wield the power of the Eye.\\' Köşkeş felt a surge of power flow through him, and he knew that his life would never be the same again. He turned to leave, but the old woman\\'s voice stopped him. \\'Remember, Köşkeş, with great power comes great responsibility. Use the Eye\\'s secrets wisely, and may the paths you walk be lit with the light of truth.\\' And with that, Köşkeş emerged from the forest, ready to face the challenges that lay ahead, armed with the knowledge and power of the Eye of the Oracle.\"'}]"
      ]
     },
     "execution_count": 17,
     "metadata": {},
     "output_type": "execute_result"
    }
   ],
   "source": [
    "call_messages"
   ]
  },
  {
   "cell_type": "code",
   "execution_count": 18,
   "id": "8d8d6b8b",
   "metadata": {},
   "outputs": [],
   "source": [
    "question = \"Hikayedeki karakterler kimler\" #soru"
   ]
  },
  {
   "cell_type": "code",
   "execution_count": 19,
   "id": "7f7da1f1",
   "metadata": {},
   "outputs": [],
   "source": [
    "#embedding\n",
    "embed_question = embed_model.encode(question) \n",
    "embed_stories_chunks = [embed_model.encode(chunk) for chunk in stories_chunks]"
   ]
  },
  {
   "cell_type": "code",
   "execution_count": 25,
   "id": "11923bcc",
   "metadata": {},
   "outputs": [],
   "source": [
    "#rag\n",
    "similarities = cosine_similarity([embed_question], embed_stories_chunks)[0]\n",
    "closest_index = np.argmax(similarities)\n",
    "best_stories_chunk = stories_chunks[closest_index]"
   ]
  },
  {
   "cell_type": "code",
   "execution_count": null,
   "id": "a68413ce",
   "metadata": {},
   "outputs": [
    {
     "name": "stdout",
     "output_type": "stream",
     "text": [
      "The characters in this adventure story appear to be:\n",
      "\n",
      "1. Köşkeş: The protagonist of the story, who is an adventurer seeking to solve the old woman's riddle.\n",
      "2. The Old Woman: A mysterious and wise character who poses the riddle to Köşkeş and guides him on his journey. She seems to have a deep understanding of the world and its workings.\n"
     ]
    }
   ],
   "source": [
    "system_prompt = f\"\"\"Sen rag verisini kullanıcının sorgusuna göre kibar bir dille yanıtlayacak yardımcı asistansın. İşte kullanıcı sorgusunu cevaplarken kullanacağın rag verisi: {best_stories_chunk} \"\"\"\n",
    "\n",
    "user_prompt = question\n",
    "\n",
    "response = client.chat.completions.create(\n",
    "  messages=[\n",
    "    {\"role\":\"system\", \"content\":system_prompt},\n",
    "    {\"role\": \"user\", \"content\":user_prompt}\n",
    "  ],\n",
    "  model= groq_model\n",
    ")\n",
    "print(response.choices[0].message.content)"
   ]
  }
 ],
 "metadata": {
  "kernelspec": {
   "display_name": "Python 3",
   "language": "python",
   "name": "python3"
  },
  "language_info": {
   "codemirror_mode": {
    "name": "ipython",
    "version": 3
   },
   "file_extension": ".py",
   "mimetype": "text/x-python",
   "name": "python",
   "nbconvert_exporter": "python",
   "pygments_lexer": "ipython3",
   "version": "3.10.11"
  }
 },
 "nbformat": 4,
 "nbformat_minor": 5
}
