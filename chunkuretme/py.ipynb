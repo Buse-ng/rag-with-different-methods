{
 "cells": [
  {
   "cell_type": "markdown",
   "id": "a04033db",
   "metadata": {},
   "source": [
    "kütüphaneler"
   ]
  },
  {
   "cell_type": "code",
   "execution_count": 1,
   "id": "d7ca4715",
   "metadata": {},
   "outputs": [],
   "source": [
    "import os\n",
    "from dotenv import load_dotenv\n",
    "from groq import Groq "
   ]
  },
  {
   "cell_type": "code",
   "execution_count": 2,
   "id": "27544e4a",
   "metadata": {},
   "outputs": [],
   "source": [
    "load_dotenv()\n",
    "groq_api_key = os.getenv(\"GROQ_API_KEY\") \n",
    "# print(\"key:\", groq_api_key[:5])"
   ]
  },
  {
   "cell_type": "code",
   "execution_count": 3,
   "id": "3d6ae29a",
   "metadata": {},
   "outputs": [],
   "source": [
    "client = Groq(api_key = groq_api_key)"
   ]
  },
  {
   "cell_type": "markdown",
   "id": "29cfd6c1",
   "metadata": {},
   "source": [
    "hikayeleri olusturt ve bir listede tut"
   ]
  },
  {
   "cell_type": "code",
   "execution_count": 19,
   "id": "416c5742",
   "metadata": {},
   "outputs": [],
   "source": [
    "story_chunks = []\n",
    "initial_prompt = \"Bir macera hikayesi başlat. Her chunk yaklaşık 50-60 kelime olsun. Hikaye toplamda 10 parçadan oluşacak ve her parça bir öncekine bağlı şekilde ilerleyecek. Türkçe olsun\"\n",
    "previous_chunk = \"\""
   ]
  },
  {
   "cell_type": "code",
   "execution_count": 20,
   "id": "55976888",
   "metadata": {},
   "outputs": [],
   "source": [
    "messages = [{\"role\": \"system\", \"content\": \"Sen yardımcı bir asistan ol.\"}]\n",
    "groq_model = \"llama3-8b-8192\""
   ]
  },
  {
   "cell_type": "markdown",
   "id": "5ca2eb35",
   "metadata": {},
   "source": [
    "TODO: "
   ]
  },
  {
   "cell_type": "code",
   "execution_count": 21,
   "id": "d0995dd5",
   "metadata": {},
   "outputs": [],
   "source": [
    "temp_messages = [{\"role\": \"system\", \"content\": initial_prompt}]\n",
    "\n",
    "for i in range(10):\n",
    "    if i == 0:\n",
    "        user_prompt = \"Lütfen hikayenin ilk bölümünü yaz.\"\n",
    "    else:\n",
    "        user_prompt = f\"Şimdi hikayenin {i+1}. bölümünü yaz.\"\n",
    "    \n",
    "    temp_messages.append({\"role\": \"user\", \"content\": user_prompt})\n",
    "\n",
    "    response = client.chat.completions.create(\n",
    "        model=groq_model, \n",
    "        messages= temp_messages\n",
    "    )\n",
    "    chunk = response.choices[0].message.content\n",
    "    story_chunks.append(chunk)    \n",
    "    \n",
    "    temp_messages.append({\"role\": \"assistant\", \"content\":chunk}) "
   ]
  },
  {
   "cell_type": "code",
   "execution_count": 22,
   "id": "727bc386",
   "metadata": {},
   "outputs": [
    {
     "data": {
      "text/plain": [
       "[{'role': 'system',\n",
       "  'content': 'Bir macera hikayesi başlat. Her chunk yaklaşık 50-60 kelime olsun. Hikaye toplamda 10 parçadan oluşacak ve her parça bir öncekine bağlı şekilde ilerleyecek. Türkçe olsun'},\n",
       " {'role': 'user', 'content': 'Lütfen hikayenin ilk bölümünü yaz.'},\n",
       " {'role': 'assistant',\n",
       "  'content': \"Burada hikayenin ilk bölümünü yazıyorum:\\n\\nKaraorman, ölümsüz bir düzenekti. Yüzyıllar boyunca, hiç bir şey dokunmayan, hiç bir şey değiştirmeyen. Ancak bu sezon, her şey değişiyordu. Çirkin, şişman bir adam, adı Vezir Selim, karaormanın:borderine yaklaşıyordu. Güzel bir arazide, bir kasaba vardı. Kasabanın izâbı, Vezir Selim'in kınıydı. Kasaba, Vezir Selim'in siperinin olduğu yerdi. Kasabaya Vezir Selim'i takip eden kişilere karşıacusurmuştu. Vezir Selim, karaormanın:borderine yaklaşıyor, kasabaya girmişti. Kasabada, bir olay起こuyordu. Kasabada, herkes Vezir Selim'i bekliyordu. Ve onu bekleyenlerin içindeki biri, Vezir Selim'in küçük kardeşi, Eftali’yi…\"},\n",
       " {'role': 'user', 'content': 'Şimdi hikayenin 2. bölümünü yaz.'},\n",
       " {'role': 'assistant',\n",
       "  'content': \"Burada hikayenin 2. bölümünü yazıyorum:\\n\\nEftali, Vezir Selim'in kardeşiydi, ancak kardeşiydi diyebilirim. Çünkü kardeşlerinden oldukça farklıydı. Eftali, Vezir Selim'in aksine, güzel biriydi. Genç, zarif, tatlı bir_was. Kasaba sakinleri, Eftali'yi çok seviyordu. Eftali, kasaba için çalışmaya yardımıyordu. Savaş zamanındayken, Eftali, kahrolasmış, yaralı askerleri tedavi edip, onları hayata döndürmüştü. Savaş sona erdikten sonra, Eftali, kasabanın líderi oldu. Kasaba, onun altında gelişmeye başladı. Ama Vezir Selim, Eftali'ye kızıyordu. Vezir Selim, Eftali'yi devirmeye çalışıyordu. Vezir Selim, kasabaya girdiğinde, Eftali'yi kesinlikle bulacaktı. Vezir Selim, kasabada bir şeyler planlıyordu. Ama kimse, Vezir Selim'in planını bilmiyordu. Belki, kasaba, Vezir Selim'in planına karşı duracaktı. Belki, kasaba, Vezir Selim'i durduracaktı.\"},\n",
       " {'role': 'user', 'content': 'Şimdi hikayenin 3. bölümünü yaz.'},\n",
       " {'role': 'assistant',\n",
       "  'content': \"Burada hikayenin 3. bölümünü yazıyorum:\\n\\nKasabanın lideri Eftali, Vezir Selim'in gelmesini bekliyordu. Eftali, Vezir Selim'in planlarını kestirmeye çalışıyordu. Ama Vezir Selim, çok tedbirliydi. Vezir Selim, kasabaya girmişti, ancak kimse, onu göremiyordu. Kasaba, Vezir Selim'i aramaya başladı. Ama kimse, onu bulamadı. Vezir Selim, kasabada bir şeyler planlıyordu. Kasaba, Vezir Selim'in planına karşı durmaya çalışıyordu. Eftali, kasaba sakinlerini toplayarak, onlar için Tehdid değerinde bir toplantı yaptı. Kasaba sakinleri, Vezir Selim'in tehdidalarına karşı durmaya karar verdiler. Ama Vezir Selim, kasabaya doğru yaklaşıyor, kasabanın lideri Eftali'yi bulmaya çalışıyordu. Vezir Selim, Eftali'yi bulduğunda, onu öldürme planlarını gerçekleştiryecek. Ama kasaba, Vezir Selim'in planına karşı durmaya çalışıyordu. Belki, kasaba, Vezir Selim'i durduracaktı. Belki, kasaba, Vezir Selim'i durduralarına karişti.\"},\n",
       " {'role': 'user', 'content': 'Şimdi hikayenin 4. bölümünü yaz.'},\n",
       " {'role': 'assistant',\n",
       "  'content': \"Burada hikayenin 4. bölümünü yazıyorum:\\n\\nEftali, Vezir Selim'in planını kestiremedi. Ama kasaba sakinleri, Vezir Selim'in tehdidilerine karşı durmaya karar verdiler. Eftali, kasaba sakinlerini toplayarak, onlar için bir savunma planı yaptı. Kasaba, Vezir Selim'in planına karşı durmak için, birkaç adamını savaş için gönderdi. Ama Vezir Selim, savaş için sendikasyon yapmıştı. Vezir Selim, kasabaya savaş açmıştı. Savaş, kasabanın kapısında başladı. Kasaba, Vezir Selim'in ordusuna karşı durmaya çalışıyordu. Ama Vezir Selim, kasabaya gönderdiği adamları öldürüyordu. Eftali, kasaba sakinlerini toplayarak, savaş için askerlik istedi. Kasaba sakinleri, Eftali'yi askerlik istedi. Ama Eftali, Vezir Selim'i durdurmaya çalışıyordu. Vezir Selim, Eftali'yi bulmaya çalışıyordu. Ama kasaba, Vezir Selim'in planına karşı durmaya çalışıyordu. Belki, kasaba, Vezir Selim'i durduracaktı. Belki, kasaba, Vezir Selim'i durduralarına karişti.\"},\n",
       " {'role': 'user', 'content': 'Şimdi hikayenin 5. bölümünü yaz.'},\n",
       " {'role': 'assistant',\n",
       "  'content': \"Burada hikayenin 5. bölümünü yazıyorum:\\n\\nSavaş, kasabanın kapısında sona ermişti. Kasaba, Vezir Selim'in ordusuna karşı durmaya çalışmıştı, ancak Vezir Selim, kasabaya gönderdiği adamları öldürmüştü. Eftali, kasaba sakinlerinin askere alınması için çalışmaya başladı. Kasaba sakinleri, Eftali'yi askerlik istedi. Ama Vezir Selim, Eftali'yi bulmaya çalışıyordu. Vezir Selim, Eftali'yi bulduğunda, onu öldürmeye çalışıyordu. Eftali, Vezir Selim'in planına karşı durmaya çalışıyordu. Ama Vezir Selim, Eftali'yı bulmaya yakın oluyordu. Eftali, kasaba sakinlerine, Vezir Selim'in planını açıkladı. Kasaba sakinleri, Vezir Selim'i durdurmaya çalışmaya başladı. Ama Vezir Selim, kasabaya doğru yaklaşıyor, Eftali'yi bulmaya çalışıyordu. Eftali, Vezir Selim'i durdurmaya çalışırken, Vezir Selim'in kardeşiydi, Zephyr'i buldu. Zephyr, Eftali'ye yardım etmeye çalışıyordu. Ama Vezir Selim, Zephyr'i bulmaya çalışıyordu. Belki, kasaba, Vezir Selim'i durduracaktı. Belki, kasaba, Vezir Selim'i durduralarına karişti.\"},\n",
       " {'role': 'user', 'content': 'Şimdi hikayenin 6. bölümünü yaz.'},\n",
       " {'role': 'assistant',\n",
       "  'content': \"Burada hikayenin 6. bölümünü yazıyorum:\\n\\nZephyr, Eftali'ye yardım etmeye çalışıyordu. Zephyr, Vezir Selim'i durdurmaya çalışıyordu. Vezir Selim, kasabaya doğru yaklaşıyor, Eftali'yi bulmaya çalışıyordu. Ama Zephyr, Vezir Selim'i bulmaya yakın oluyordu. Zephyr, Vezir Selim'i durdurmaya çalışırken, bir plan yaptı. Zephyr, Vezir Selim'i kendi adamlarına presenterliğe veriyordu. Ama Vezir Selim, Zephyr'nin planına karşı durmaya çalışıyordu. Vezir Selim, Zephyr'i bulmaya çalışıyor, ancak Zephyr, Vezir Selim'i durdurmaya çalışıyordu. Zephyr, Vezir Selim'i durdurmaya çalışırken, kasaba sakinleri, onlara Yardım etmeye çalışıyorlardı. Kasaba sakinleri, Vezir Selim'i durdurmaya çalışırken, Zephyr'i durdurmak için çalışmaya başladı. Ama Vezir Selim, kasabaya doğru yaklaşıyor, Eftali'yi bulmaya çalışıyordu. Belki, kasaba, Vezir Selim'i durduracaktı. Belki, kasaba, Vezir Selim'i durduralarına karişti.\"},\n",
       " {'role': 'user', 'content': 'Şimdi hikayenin 7. bölümünü yaz.'},\n",
       " {'role': 'assistant',\n",
       "  'content': \"Burada hikayenin 7. bölümünü yazıyorum:\\n\\nVezir Selim, kasabaya yaklaştığı sırada, Zephyr tarafından durduruldu. Zephyr, Vezir Selim'i kendi adamlarına presenterlığa vermişti. Vezir Selim, Zephyr'in planına karşı durmaya çalışıyordu, ancak Zephyr, Vezir Selim'i durdurmaya çalışmaya devam ediyordu. Kasaba sakinleri, Zephyr'i durdurmaya çalışıyorlardı. Ama Eftali, Zephyr'nin planına karşı durmaya çalışıyordu. Eftali, Zephyr'in planına karşı durmaya çalışırken, Vezir Selim'i bulmaya çalışıyordu. Vezir Selim, Zephyr'in planına karşı durmaya çalışıyor, ancak Zephyr, Vezir Selim'i durdurmaya çalışmaya devam ediyordu. Zephyr, Vezir Selim'i durdurmaya çalışırken, Kasaba sakinleri, onlara Yardım etmeye çalışıyorlardı. Kasaba sakinleri, Vezir Selim'i durdurmaya çalışırken, Zephyr'i durdurmak için çalışmaya başladı. Ama Vezir Selim, kasabaya doğru yaklaşıyor, Eftali'yi bulmaya çalışıyordu. Belki, kasaba, Vezir Selim'i durduracaktı. Belki, kasaba, Vezir Selim'i durduralarına karişti.\"},\n",
       " {'role': 'user', 'content': 'Şimdi hikayenin 8. bölümünü yaz.'},\n",
       " {'role': 'assistant',\n",
       "  'content': \"Burada hikayenin 8. bölümünü yazıyorum:\\n\\nVezir Selim, Zephyr'in planına karşı durmaya çalışarak, kasabaya yaklaştı. Ama Zephyr, Vezir Selim'i durdurmaya devam ediyordu. Zephyr, Vezir Selim'i durdurmaya çalışırken, kasaba sakinleri, onlara Yardım etmeye çalışıyorlardı. Kasaba sakinleri, Vezir Selim'i durdurmaya çalışırken, Zephyr'i durdurmak için çalışmaya başladı. Ama Eftali, Zephyr'nin planına karşı durmaya çalışıyordu. Eftali, Zephyr'in planına karşı durmaya çalışırken, Vezir Selim'i bulmaya çalışıyordu. Vezir Selim, Zephyr'in planına karşı durmaya çalışıyor, ancak Zephyr, Vezir Selim'i durdurmaya devam ediyordu. Vezir Selim, kasabaya yaklaştığı sırada, Zephyr tarafından durduruldu. Zephyr, Vezir Selim'i bindirmeye çalışıyordu. Ama Vezir Selim, Zephyr'in planına karşı durmaya çalışıyor. Vezir Selim, Zephyr'i durdurmaya çalışıyor. Belki, kasaba, Vezir Selim'i durduracaktı. Belki, kasaba, Vezir Selim'i durduralarına karişti.\"},\n",
       " {'role': 'user', 'content': 'Şimdi hikayenin 9. bölümünü yaz.'},\n",
       " {'role': 'assistant',\n",
       "  'content': \"Burada hikayenin 9. bölümünü yazıyorum:\\n\\nVezir Selim, Zephyr tarafından bindirildi. Zephyr, Vezir Selim'i kasabaya gelen adamlarına presenterlığa vermişti. Ama Vezir Selim, Zephyr'in planına karşı durmaya çalışıyordu. Vezir Selim, kasaba sakinlerine bağırmaya başladı. Vezir Selim, kasaba sakinlerini korkutmaya çalışıyordu. Ama kasaba sakinleri, Vezir Selim'i durdurmaya çalışıyorlardı. Kasaba sakinleri, Zephyr'i durdurmaya çalışıyorlardı. Zephyr, Vezir Selim'i durdurmaya çalışmaya devam ediyordu. Eftali, Zephyr'in planına karşı durmaya çalışıyordu. Eftali, Zephyr'in planına karşı durmaya çalışırken, Vezir Selim'i bulmaya çalışıyordu. Vezir Selim, Zephyr'in planına karşı durmaya çalışıyor, ancak Zephyr, Vezir Selim'i durdurmaya devam ediyordu. Kasaba sakinleri, Zephyr'i durdurmaya çalışılırken, Vezir Selim'i durdurmaya çalışmaya başladı. Belki, kasaba, Vezir Selim'i durduracaktı. Belki, kasaba, Vezir Selim'i durduralarına karişti.\"},\n",
       " {'role': 'user', 'content': 'Şimdi hikayenin 10. bölümünü yaz.'},\n",
       " {'role': 'assistant',\n",
       "  'content': \"Burada hikayenin 10. bölümünü yazıyorum:\\n\\nVezir Selim, kasabaya gelen adamlarına presenterlığa verildi. Zephyr, Vezir Selim'i kasabaya gelen adamlarına presenterlığa vermiştetti. Ama Vezir Selim, kasaba sakinlerine bağırmaya başladı. Vezir Selim, kasaba sakinelerini korkutmaya çalışıyordu. Ama kasaba sakinleri, Vezir Selim'i durdurmaya çalışıyorlardı. Kasaba sakinleri, Zephyr'i durdurmaya çalışıyorlardı. Zephyr, Vezir Selim'i durdurmaya çalışmaya devam ediyordu. Eftali, Zephyr'in planına karşı durmaya çalışıyordu. Eftali, Zephyr'in planına karşı durmaya çalışırken, Vezir Selim'i bulmaya çalışıyordu. Vezir Selim, Zephyr'in planına karşı durmaya çalışıyor, ancak Zephyr, Vezir Selim'i durdurmaya devam ediyordu. Kasaba sakinleri, Zephyr'i durdurmaya çalışırken, Vezir Selim'i durdurmaya çalışmaya başladı. Belki, kasaba, Vezir Selim'i durduracaktı. Belki, kasaba, Vezir Selim'i durduralarına karişti. Ama son olarak, Zephyr, Vezir Selim'i durdurmaya çalışarak, kasabanın lideri Eftali'ye ulaştı. Eftali, Vezir Selim'i durdurmaya çalışarak, kasabaya kalıcı kardeşlik getirdi. Kasaba, yeni bir çığırı kurdurmuştu.\"}]"
      ]
     },
     "execution_count": 22,
     "metadata": {},
     "output_type": "execute_result"
    }
   ],
   "source": [
    "temp_messages"
   ]
  },
  {
   "cell_type": "code",
   "execution_count": 12,
   "id": "f724e1b0",
   "metadata": {},
   "outputs": [
    {
     "data": {
      "text/plain": [
       "[\"Here's the first part of the adventure story:\\n\\nThe small town of Ravenswood was never the same after the night the old, mysterious clock tower in the town square stopped ticking. It was as if time itself had frozen. The townsfolk went about their daily routines, but there was a sense of unease lingering in the air. Strange noises echoed through the streets at night, and some people even reported seeing apparitions lurking in the shadows.\\n\\nAva, a curious and brave 17-year-old, had always been fascinated by the clock tower. She spent most of her free time researching its history, pouring over dusty tomes and scouring the internet for any mention of it. And then, one rainy evening, she stumbled upon an ancient text that hinted at a dark secret buried within the tower's stone walls.\\n\\nLittle did Ava know, her discovery was about to set her on a journey that would unravel the very fabric of Ravenswood's history...\",\n",
       " 'Here\\'s the second part of the adventure story:\\n\\nAs the rain drummed against her windowpane, Ava\\'s eyes scanned the musty pages of the ancient text once more. She couldn\\'t believe what she was reading - whispers of dark magic and forgotten rituals hidden within the clock tower\\'s intricate mechanisms. The more she read, the more she became convinced that the tower held a hidden chamber, concealed behind a sequence of cryptic symbols and mechanisms. Her curiosity now a burning fire, Ava decided to take matters into her own hands. She packed a flashlight, a notebook, and a can of spray paint, and set out into the stormy night, determined to uncover the secrets of the clock tower. As she approached the tower, the wind died down, and an unsettling silence fell over the deserted streets. Ava felt a shiver run down her spine, but she pressed on, her heart pounding in her chest. She reached the tower\\'s entrance, where a heavy iron door loomed before her, adorned with the Latin phrase \"Tempus est mortuus\" - Time is dead. With a deep breath, Ava raised her hand to the door...',\n",
       " 'Here\\'s the third part of the adventure story:\\n\\nAs Ava\\'s hand touched the corroded iron, the door creaked open with a sudden, ominous clang. The flashlight on her phone cast an eerie glow on the dusty stones inside, revealing a narrow staircase that spiralled upward to levels unseen. The air was stale and heavy with age, and Ava could almost smell the whispers of the past. She hesitated for a moment, her foot hovering over the first step, before a spark of determination ignited within her. Taking a deep breath, she began her ascent, her eyes adjusting to the darkness as she climbed. The stairs twisted and turned, each step echoing in the silence. Ava\\'s heart pounded in her chest, and she couldn\\'t shake the feeling that she was being watched. Suddenly, the staircase ended, and Ava found herself facing a small, locked door with a rusty keyhole. The Latin phrase \"Celare tempus\" - Hide time - was etched into the door, in letters that seemed to writhe like snakes. Ava\\'s mind raced with the possibility of what lay behind the door, and she knew she had to find the key to unlock the secrets of the clock tower...',\n",
       " \"Here's the fourth part of the adventure story:\\n\\nAs Ava examined the door, her fingers tracing the intricate Latin letters, she felt a strange sensation build in her fingertips. It was as if the words on the door were imbuing her with an otherworldly energy, drawing her closer to the secrets within. She turned to her phone, the flashlight casting an eerie glow on the surrounding stones, and saw that the screen had gone dark. The sudden loss of light sent a shiver down her spine, and she fumbled for the flashlight app, only to discover that her phone was dead. The darkness seemed to press in around her, and Ava felt her heartbeat accelerate. With a growing sense of unease, she pressed her hand against the door, as if to reassure herself that it was still there, solid and real. And then, she heard it - a faint ticking, like the pulse of a heartbeat, growing louder with each passing moment. Ava's mind reeled as she realized that the door was responding to her touch, the ticking growing faster, more insistent. She knew that she had to find the key to unlock the door, but a nagging doubt whispered in her ear - what if the key wasn't just a simple mechanism, but a test of her worthiness to uncover the secrets within?\",\n",
       " \"Here's the fifth part of the adventure story:\\n\\nAs the ticking grew louder, Ava's fingers instinctively began to search the door, feeling for any hidden crevices or protrusions that might reveal the secrets of the ancient texts. Her heart pounded in her chest as she moved closer, her breath coming in short gasps. The darkness seemed to close in around her, and she felt the air grow thick with anticipation. Suddenly, her fingers stumbled upon a small indentation in the door's surface, shaped like an acorn. It was as if the door had been waiting for her, and her touch had triggered a hidden mechanism. Ava's eyes scanned the surrounding area, and she spotted a small, ornate box attached to the wall. The box was adorned with symbols that seemed to match the patterns etched into the door. The ticking had stopped, and an oppressive silence had fallen. Ava's heart still racing, she slowly approached the box, her hand reaching out to touch its intricate lid. What lay inside? Would it be the key to unlocking the door, or some other kind of revelation?\",\n",
       " 'Here\\'s the sixth part of the adventure story:\\n\\nAs Ava\\'s fingers made contact with the box\\'s lid, it swung open with a soft creak, releasing a faint scent of sandalwood and myrrh. Inside, she found a small, leather-bound book, adorned with more of the same symbols she had seen on the door and the box. The book seemed old and worn, its pages yellowed with age. A strip of parchment lay on top of the book, with a message scrawled in a language Ava couldn\\'t understand. But as she touched the parchment, the words began to shift and rearrange, revealing a cryptic message in her native language: \"To unlock the door, find the key in the heart of the fire.\" Ava\\'s mind raced as she tried to decipher the meaning. What did the message mean by \"the heart of the fire\"? Was it a literal flame, or a metaphorical one? And what kind of key could it possibly be? As she pondered the riddle, the air around her seemed to grow colder, and she felt a presence watching her from the shadows.',\n",
       " \"Here's the seventh part of the adventure story:\\n\\nAva's eyes darted around the dimly lit chamber, her heart pounding in her chest. She had the feeling that she was being watched, and the air was thick with an eerie silence. Suddenly, a faint flicker of light caught her attention. On the far wall, a small, glowing ember had appeared, casting a warm, golden glow across the room. Without thinking, Ava moved towards the light, her curiosity getting the better of her. As she approached, the ember began to grow, spreading its warmth to the surrounding stones. It was then that Ava noticed a small indentation on the wall, shaped like a heart. The ember hovered above it, casting a hypnotic light. Ava's mind racing with possibilities, she reached out and touched the ember. The heat was intense, but it didn't burn her. Instead, she felt a strange, tingling sensation, as if the ember was transmitting a message to her. And then, in an instant, everything went dark.\",\n",
       " \"Here's the eighth part of the adventure story:\\n\\nAva's eyes fluttered open, and she gasped for air, disoriented and confused. She was lying on the cold, damp stone floor, the dimly lit chamber blurring into focus around her. The ember was nowhere to be seen, but the warm, golden glow still lingered in her mind. Groggily, she sat up, rubbing her temples, trying to shake off the lingering haze. As she looked around, she noticed something that made her heart skip a beat - a series of ancient runes etched into the walls, pulsing with a faint, blue light. The air was thick with an otherworldly energy, and Ava felt an uncontrollable surge of excitement and fear. Suddenly, she remembered the message she received from the ember, and her mind racing with possibilities, she stumbled towards the runes, determined to decipher their secrets.\",\n",
       " 'Here\\'s the ninth part of the adventure story:\\n\\nAs Ava reached out to touch the runes, she felt a sudden jolt of electricity run through her body. The blue light intensified, illuminating the dark chamber, and she stumbled backward, gasping for breath. The air seemed to vibrate with an ancient power, and she could feel the weight of centuries of secrets pressing down upon her. Eyes fixed on the runes, she tried to focus, but her mind reeled from the sheer magnitude of the revelations unfolding before her. With a burst of determination, she squinted, and the symbols began to shift, rearranging themselves into a cryptic message. The words blurred and reformed, spelling out a single, ominous phrase: \"Beyond the veil, await the chosen one.\" The chamber grew darker, as if the very fabric of reality was withdrawing its illumination, leaving Ava with only the pulsing runes and the echoes of an ancient prophecy.',\n",
       " 'Here\\'s the 10th part of the adventure story:\\n\\nAs the darkness closed in, Ava felt the runes\\' energy coursing through her veins. The chamber\\'s air grew thick with anticipation, and she sensed the prophecy\\'s weight settling upon her. With a deep breath, she steeled herself and gazed once more at the pulsing symbols. The message, \"Beyond the veil, await the chosen one,\" seemed to sear itself into her mind. Ava knew she had to act; the fate of the world, or at least the world she knew, hung precariously in the balance. With slow, deliberate movements, she reached out and touched the runes once more. The blue light enveloped her, and she felt herself being pulled toward the veil - the threshold between reality and the unknown. As she stepped forward, the chamber began to fade, replaced by a dimly lit, winding stairway that plunged into the depths of the earth. The air grew colder, and the runes\\' energy pulsed with an otherworldly intensity. Ava knew she had to descend into the unknown, but a voice in her mind whispered: \"Are you prepared to face what lies beyond?\"',\n",
       " 'Here\\'s the first chapter of the adventure story:\\n\\nThe sun was setting over the small town of Willowdale, casting a golden glow over the quaint streets and homes. The air was filled with the sweet scent of freshly baked bread wafting from the local bakery. It was a typical evening in Willowdale, with the townspeople going about their daily routines.\\n\\nBut amidst the peace and tranquility, a sense of unease settled over a small, mysterious shop tucked away on a side street. The sign above the door read \"Curios and Antiques,\" and the windows were filled with a jumble of strange and exotic items. The shop was owned by an eccentric old man named Professor Thaddeus, who was rumored to possess a vast knowledge of the unknown and the unexplained.\\n\\nAs the sun dipped below the horizon, a young woman named Sofia wandered into the shop, her eyes scanning the shelves and displays with a mix of curiosity and trepidation. She had heard whispers about Professor Thaddeus and his shop, but she had never been inside before. What secrets lay hidden within those dusty old trunks and mysterious artifacts? And what lay in store for her as she stepped into the unknown?',\n",
       " 'The second chapter:\\n\\nSofia\\'s eyes adjusted slowly to the dim light inside the shop, and she found herself surrounded by a treasure trove of curiosities. Glass jars filled with strange, glowing liquids lined the shelves, while ancient-looking tomes bound in worn leather seemed to radiate an aura of knowledge. Professor Thaddeus, his eyes twinkling with a hint of madness, emerged from the shadows to greet her.\\n\\n\"Ah, welcome to my humble abode, my dear Sofia,\" he said, his voice dripping with an old-world charm. \"I see you\\'re drawn to the mysteries of the unknown. Am I correct?\"\\n\\nSofia nodded, feeling a shiver run down her spine as the Professor\\'s eyes seemed to bore into her very soul. \"I\\'ve heard rumors about your shop,\" she said hesitantly. \"Rumors about... strange artifacts and knowledge that can\\'t be found anywhere else.\"\\n\\nThe Professor chuckled, the sound sending a faint tremor through the air. \"Ah, yes. The whispers. The rumors. The myths. All true, my dear. And yet, so very little of it is true. The secrets I possess are not for the faint of heart. Are you prepared to uncover the truth?\"\\n\\nSofia hesitated, but something about the Professor\\'s words resonated within her. She felt an inexplicable pull, drawing her deeper into the shop, deeper into the unknown. What secrets lay hidden in the shadows, waiting to be uncovered? Only time would tell.',\n",
       " 'The fourth chapter:\\n\\nAs Sofia nodded hesitantly, the Professor led her deeper into the shop, navigating a winding path of dusty bookshelves and peculiar contraptions. The air grew thick with the scent of old paper and forgotten memories. Sofia\\'s eyes wandered, taking in the wonders that surrounded her. A taxidermied owl perched on a shelf, its glassy eyes fixed on her; a vintage globe seemed to spin of its own accord, as if whirling through the ages to reveal hidden truths.\\n\\nThe Professor stopped in front of a worn, wooden door, adorned with strange symbols and talismans. He pushed the door open, revealing a narrow stairway that descended into darkness. \"Up here,\" he said, his voice low and conspiratorial, \"lies the true heart of my collection. Would you care to explore the shadows with me?\"\\n\\nSofia\\'s heart skipped a beat as she hesitated, her hand reaching out to touch the symbols on the door. Something about the Professor\\'s words stirred within her, a sense of foreboding and excitement. As she looked at the Professor, she saw a glint of mischief in his eyes, and a hint of a challenge. What lay hidden in the shadows, waiting for her? Only the Professor knew, and he wasn\\'t telling – yet.',\n",
       " 'The fourth chapter:\\n\\nSofia\\'s fingers hovered over the symbols on the door, her mind racing with the possibilities. What secrets lay hidden in the shadows? She glanced at the Professor, his eyes sparkling with anticipation. With a deep breath, she nodded, and together they descended into the darkness. The air grew colder, heavy with the scent of damp earth and secrets. As they walked, the walls seemed to press in around them, adorned with ancient artifacts and mysterious Devices.\\n\\nThe Professor pulled out a small flashlight, illuminating a series of narrow corridors and cryptic symbols etched into the walls. \"These are the pathways of the ancients,\" he whispered, his voice barely audible over the creaking of the old wooden beams. \"Few have ventured here and returned unchanged.\" Sofia\\'s heart pounded in her chest, but she pressed on, her curiosity driving her forward. What lay at the heart of the shadows? And who were the ancients, whose secrets the Professor was unveiling?',\n",
       " 'The fifth chapter:\\n\\nAs they navigated the labyrinthine corridors, the symbols on the walls began to shift and change, revealing hidden patterns and cryptic messages. The Professor\\'s flashlight cast eerie shadows on the walls, making it seem as if the ancient ones were watching them from the darkness. Sofia felt a shiver run down her spine as she realized that they were being led deeper into the heart of the mysterious complex.\\n\\nThe air grew thick with an otherworldly energy, and Sofia could feel the weight of history bearing down on her. She glanced at the Professor, who was studying the symbols with an intensity that bordered on obsession. His eyes gleamed with a fanatical light, and Sofia wondered if he was more interested in uncovering the secrets of the ancients than in keeping her safe.\\n\\nAs they turned a corner, a massive stone door loomed before them, adorned with a symbol that looked uncannily like the one on Sofia\\'s hand. The Professor\\'s eyes locked onto the symbol, and he whispered a single word: \"Elysium.\"',\n",
       " 'The sixth chapter:\\n\\nAs the Professor uttered the word \"Elysium\", the stone door began to rumble and shake, slowly creaking open with a sound like thunder. Sofia felt a strange sense of trepidation as she stepped forward, her heart racing with anticipation. Beyond the door lay a vast chamber, the ceiling lost in darkness, with an eerie, blue-green glow emanating from the walls.\\n\\nThe air inside was heavy with the scent of incense and something else, something sweet and decaying. Sofia\\'s eyes adjusted slowly to the dim light, and she saw that the walls were lined with rows of ancient, dust-covered bookshelves, stretching up to the ceiling like sentinels. The Professor moved forward, his eyes scanning the shelves with an intensity that bordered on reverence.\\n\\nSuddenly, he stooped down, running his fingers over a particularly worn section of the shelf. A hidden panel swung open, revealing a book bound in a strange, glowing material. The Professor\\'s eyes sparkled with excitement as he pulled out the book, his fingers tracing the intricate symbols on the cover. \"This is it,\" he whispered, his voice trembling with excitement. \"This is the key to unlocking the secrets of Elysium.\"',\n",
       " 'Here is the 7th chapter:\\n\\nAs the Professor opened the book, a musty smell wafted out, and the air in the chamber seemed to grow heavier with anticipation. Sofia watched, entranced, as the Professor\\'s eyes scanned the pages, his expression a mixture of excitement and reverence. The symbols on the pages seemed to pulse with a soft, blue light, as if they were alive.\\n\\nAfter a few moments, the Professor stopped at a particular page, his finger hovering over a specific illustration. The air seemed to vibrate with tension as he spoke, his voice low and conspiratorial. \"This is a map,\" he whispered. \"A map to the Heart of Elysium. According to legend, it is hidden deep within the city, guarded by powerful elemental forces and treacherous landscapes.\" He looked up at Sofia, his eyes sparkling with a thrill of adventure. \"Are you ready to begin our journey?\"',\n",
       " 'Here is the 8th chapter:\\n\\nSofia\\'s heart raced as she nodded eagerly, a sense of wonder and trepidation swirling within her. The Professor smiled, a hint of mischief in his eyes, and flipped to an adjacent page. The illustration depicted a winding path, lined with ancient ruins and strange, ethereal flora. The Professor\\'s finger traced the path, his voice weaving a spell of enchantment. \"We\\'ll follow this path to the Upper City,\" he said. \"Legend has it that the Elemental Guardians reside there, waiting for those who seek the Heart of Elysium to prove themselves worthy.\" As he spoke, the air in the chamber seemed to shimmer, as if the very fabric of reality was bending to accommodate the journey ahead. Sofia felt a shiver run down her spine as the Professor closed the book, his hand resting on the cover as if sealing a pact with the ancient tomes. \"Our journey begins at dawn,\" he said, his eyes glinting with a sense of anticipation. \"Be prepared.\"',\n",
       " \"Here is the 9th chapter:\\n\\nAs the night wore on, Sofia couldn't shake the feeling that the Professor's words had awakened something within her. She lay awake in her small, candlelit room, the sounds of the palace growing distant as she conjured images of the winding path and the Elemental Guardians. The air was heavy with the scent of blooming flowers, and she could have sworn she heard the soft hum of an otherworldly melody. Just as she was drifting off to sleep, a faint tapping at the window stopped her. With a start, she threw off her covers and rushed to the window, her heart pounding in her chest. A small, delicate hand beckoned her from the rooftop above, and the mysterious hand was slowly pulled back into the darkness.\",\n",
       " 'Here is the 10th and final chapter of the adventure story:\\n\\nWith a mix of excitement and trepidation, Sofia hastily dressed and made her way to the rooftop, the night air crisp and cool against her skin. The rooftops seemed to stretch on forever, a maze of tiles and chimneys, but she knew she had to follow the mysterious hand. As she climbed, the wind whispers secrets in her ear, and she began to make out a shadowy figure perched on the edge of the roof, beckoning her closer. The figure slowly rose to its feet, revealing a young woman with piercing green eyes and skin as pale as moonlight. \"Who are you?\" Sofia demanded, trying to keep her voice steady. The woman smiled, her eyes glinting with a knowing light, and whispered one word: \"Come.\"',\n",
       " 'Here\\'s the first part of the adventure story:\\n\\nThe sun was setting over the small town of Willow Creek, casting a warm orange glow over the quaint streets and homes. The air was filled with the sweet scent of fresh-cut grass and the distant chirping of crickets. It was a peaceful evening, with only the occasional bark of a dog or the rumble of a passing car breaking the silence.\\n\\nBut amidst this tranquility, a sense of unease hung in the air. Strange things had begun to happen in Willow Creek recently. Tools would go missing from the local hardware store, only to reappear in strange places. People would report seeing shadowy figures lurking in the alleys at night, but whenever anyone investigated, there would be no one there.\\n\\nAs I walked down Main Street, I stumbled upon a flyer taped to a telephone pole. It was an advertisement for a treasure hunt, organized by a mysterious group calling themselves \"The Guardians of the Creek\". The flyer promised that the winner would receive a prize of $10,000, but the catch was that the treasure was hidden somewhere in Willow Creek, and only those with the bravest of hearts and the keenest of minds would be able to find it.\\n\\nI felt a shiver run down my spine as I gazed at the flyer. Something about this treasure hunt seemed off, but at the same time, the thrill of the adventure was too enticing to resist. I decided then and there that I would join the hunt, and see where it would take me...',\n",
       " 'Burada 2. bölümün başlayalım. \\n\\n Dün gece, evden kaçmaya çalışırken, bilerek ya da bilinمي yok, arkasında bir şey kaldı. Annemi bulduğumda, yakında, kaybolmuş bir otoyol tabelası vardı. \"Wilmontville\" tabelasıydı ve onu asla görmemiştim. Annem endişeyle baktı ve söylemeye başladı: \"O bir yerdir, küçük. Ben orada büyümüştüm.\" Sanki bir sır vardı, ama bilmiyorum ne. Annem solmuş, gözümlüyor, söylemeye çalıştığını, ama kelimeleri bulamıyor. \\n\\nBugünkü görevimdi, Annem\\'in yorumunu çözmek. Otoyol tabelasına gitmek başka bir gün için planladım. Ne öğrenilecekle ilgili umudum vardı.',\n",
       " 'Here is the 3rd chapter of the adventure story:\\n\\nAs I ventured deeper into the ancient forest, the silence was broken only by the rustling of leaves and snapping of twigs beneath my feet. I had been walking for hours, and the sun was beginning to set, casting long shadows across the forest floor. I could feel eyes watching me, and the hairs on the back of my neck stood on end.\\n\\nSuddenly, a figure emerged from the underbrush, its features illuminated by a faint, ethereal glow. It was a woman, her long hair wild and tangled, her eyes burning with an otherworldly intensity. She regarded me with a calculating gaze, her presence both mesmerizing and terrifying.\\n\\n\"Who are you?\" she asked, her voice like a whispered secret.\\n\\nI hesitated, unsure how to respond. What was I doing here, in this strange and foreboding place? And who was this woman, with her unearthly power and mystifying aura?\\n\\nBut before I could answer, she vanished into thin air, leaving me feeling disoriented and more than a little unnerved. I stood there, frozen, wondering what was happening, and what lay ahead.',\n",
       " \"Here is the 4th chapter of the adventure story:\\n\\nAs I ventured deeper into the jungle, the sounds of the waterfall grew louder and the air grew thick with humidity. I had been walking for hours, but the excitement of the treasure hunt kept my energy levels high. Suddenly, I stumbled upon a clearing and in the center of it stood an ancient temple. The entrance was guarded by two stone statues of fierce-looking warriors, their eyes seemed to follow me as I approached.\\n\\nI carefully made my way around the temple, searching for any clues or hidden passages. As I rounded a corner, I noticed a small inscription on the wall. It was written in a language I couldn't decipher, but it seemed to be pointing to a specific direction. I followed the direction and found a small door hidden behind a tapestry. The door was locked, but I managed to pick the lock after a few minutes of fiddling with it.\\n\\nAs I stepped inside, a warm light enveloped me, and I found myself in a narrow corridor lined with rows of ancient artifacts. I was surrounded by the whispers of the past, and I could feel the weight of history bearing down on me. What secrets lay hidden within this temple? Would I be able to uncover the treasure before it was too late?\",\n",
       " '5. Bölüm:\\n\\nKırmızı odada, dedemin eski fotoğraflarını karıştırırken, bir şeyime takıldım. Bir fotoğraf, Gençlik Kırmızı Oda\\'nın yapımını kolaylaştırmış olan gizemli kişiden biriydi. Adı \"Kızıl Hanım\" olarak belirtilmişti. Fotoğrafı yanıma aldığımda, hissedeceğim bir ayrıcalık duydum. Suddenly, the door creaked open, and I heard a soft whisper: \"Kızıl Hanım\\'ın fotoğrafını kim seçti?\" I spun around, but there was no one there. The whisper seemed to come from all around me, echoing off the walls. I felt a chill run down my spine as I realized that someone, or something, was watching me from the shadows.',\n",
       " 'Here is the 6th chapter of the adventure story:\\n\\nAs I ventured deeper into the ancient forest, the air grew thick with the scent of damp earth and decaying leaves. I could hear the distant chirping of birds and the rustling of small animals in the underbrush. Suddenly, a faint light appeared ahead, illuminating the dark forest floor. I quickened my pace, my heart racing with excitement and a hint of trepidation. The light grew brighter, and I could see that it came from a small clearing. In the center of the clearing stood an ancient, gnarled tree, its branches twisted and tangled in a way that seemed almost... deliberate. The light seemed to be emanating from within the tree itself, casting an otherworldly glow over the surrounding vegetation. I approached the tree cautiously, feeling a strange energy building up inside me. Suddenly, a soft, whispery voice spoke in my ear, \"Welcome, adventurer. I have been waiting for you.\"',\n",
       " '7. Bölüm:\\n\\nSüleyman\\'ın ardından, İstanbul\\'un yolunu bırakmamıza karar verdik. Geçmişte bizi bunaltan çeşitli olaylar ve cinayetler, yeniden eski yerlerini doğrulamaya başladı. Önceki günün sabahında, Ahmet\\'in bize bir mesaj bırakmıştı: \"Gerçek bulacağına, şehirderisi diye yaşayanların gözü önünde buluşalım.\" O anda, ne için başvurduk onun neyi söylemek isteyeceğini bildiğimiz yoktu.\\n\\nO günün öğleye, Sultan Ahmed\\'in türbesine gittik. Ahmet, orada bizi görecek gibi davrandı. \"Bizim için yapılacak son iş, yeni bir oyunu başlatacağız,\" dedi. \"Çünkü şu anda, büyük bir değişim geçiren şehrin insanı, bize yardım edecektir.\" O anda, ne demek istediğini artık anladık. Süleyman\\'ın ölümünde, şehirderisinin gerçek yüzünün şimdi ortaya çıktığını ve notre yoluda bir yeni dönüm noktasına gelindiğini söyleyebilirsiniz.',\n",
       " 'Here is the 8th chapter of the adventure story:\\n\\nAs I ventured deeper into the ancient temple, I stumbled upon a cryptic inscription etched into the stone wall. It read: \"Beware the shadows that hide the light\". I wasn\\'t sure what it meant, but I had a feeling that it was trying to warn me of something. Suddenly, I heard a faint whispering in my ear. It was the voice of Arianna, the mysterious woman who had brought me to this place.\\n\\n\"Alexis, you\\'re getting close,\" she whispered. \"But the temple is not what it seems. You must be careful not to fall prey to its traps and illusions.\" I spun around, but there was no one there. The whisper seemed to come from all around me, echoing off the walls.\\n\\nI hesitated for a moment, wondering if I should trust Arianna\\'s words. But my instincts told me to keep moving forward. I had to find the secrets that lay within the temple\\'s heart. I took a deep breath and continued onward, but the whispering in my ear grew louder, warning me of the dangers that lay ahead.',\n",
       " '9. Bölüm:\\n\\nİştegül\\'ün ikametinin yakınında, yabancı bir ses duydum. Aynı anda, etrafımla birlikte karanlık bir gece bulutsuğa paklandık. Arkadaşım, Hasan, odaya giren ışık ışıkları oldu. O, her seferinde, bize yüzgezin biraz daha yakınlaşmasını söyledi. Benim için, durum kasdı bu.\\n\\n\"Hadi, iştegül,\" dedim, \"neler oluyor?\" Bizim şansı birleştiğinde, o bir şeyler gösterdi. Hiçbir şey demeyip, bizim ellerimiz tutulmaya başladı. O, biz olduğumuzu öne çıktı. O, kendi kendini teslim etmeye başladı. Hamdi, biraz daha yaklaştı. Hamdi, bizim için daha riskli ve riskli bir durumdu. Derken, Hamdi, biz oldu. Biz, Hamdi oldu.',\n",
       " \"10. Bölüm:\\n\\nKurt'un kahramanını bulduğu momentosu geldi. İki tarafında yeni silahlandırılmış bir ordu vardı. Önceki kahiruşün kaderini değiştirme umuduyla kurt'la orduyu karşıladılar. Kurt'un adını şerefli bir insan olarak anılan bir komutan olarak tanıyordu.\\n\\nKomutanla konuşmaya başladı, Kurt'a onun planlarını anlattı. Bütün devletin suçu bir insanda toplanması vardı. Aynı zamanda, devletin zararlı bir personeli vardı. Kurt'la ekip tarafından öldürüldü. Devletin başkanını ve zararlı personelin tüm suçu ona atmaya çalışarak, bütün devleti kurtarıyordu.\\n\\nKurt, ekip kuruldu. together they began the mission.\"]"
      ]
     },
     "execution_count": 12,
     "metadata": {},
     "output_type": "execute_result"
    }
   ],
   "source": [
    "story_chunks"
   ]
  },
  {
   "cell_type": "code",
   "execution_count": null,
   "id": "3eee6290",
   "metadata": {},
   "outputs": [],
   "source": [
    "# while True:\n",
    "#   user_input = input(\"Sen: \")\n",
    "  \n",
    "#   if user_input.lower() in [\"exit\", \"quit\", \"çık\", \"q\"]:\n",
    "#     print(\"Sohbet sonlandı.\")\n",
    "#     break\n",
    "  \n",
    "#   messages.append({\"role\": \"user\", \"content\":user_input})\n",
    "  \n",
    "#   chat_completion = client.chat.completions.create(\n",
    "#     messages=messages,\n",
    "#     model=groq_model\n",
    "#   )\n",
    "#   reply = chat_completion.choices[0].message.content\n",
    "#   print(\"Bot yanıtı:\", user_input)\n",
    "#   print(\"Bot yanıtı:\", reply)\n",
    "  \n",
    "#   messages.append({\"role\":\"assistant\", \"content\":reply}) "
   ]
  },
  {
   "cell_type": "code",
   "execution_count": 8,
   "id": "0ea238c9",
   "metadata": {},
   "outputs": [],
   "source": [
    "question = \"Hikayede ana karakterin ilk karşılaştığı engel nedir?\""
   ]
  },
  {
   "cell_type": "code",
   "execution_count": null,
   "id": "6777088b",
   "metadata": {},
   "outputs": [],
   "source": [
    "# embedding\n",
    "\n",
    "\n",
    "from sentence_transformers import SentenceTransformer\n",
    "embedding_model = SentenceTransformer(\"sentence-transformers/all-MiniLM-L6-v2\")\n",
    "\n",
    "chunk_embeddings = [embedding_model.encode(chunk) for chunk in story_chunks]\n",
    "question_embedding = embedding_model.encode(question)\n"
   ]
  },
  {
   "cell_type": "code",
   "execution_count": null,
   "id": "7ace099c",
   "metadata": {},
   "outputs": [],
   "source": [
    "from sklearn.metrics.pairwise import cosine_similarity \n",
    "import numpy as np\n",
    "similarities = cosine_similarity([question_embedding], chunk_embeddings)[0]\n",
    "closest_index = np.argmax(similarities)\n",
    "closest_chunk = story_chunks[closest_index]\n"
   ]
  },
  {
   "cell_type": "code",
   "execution_count": null,
   "id": "0e3e77eb",
   "metadata": {},
   "outputs": [],
   "source": [
    "system_prompt = f\"\"\"Aşağıdaki hikaye parçasını referans al:\\n\\n{closest_chunk}\"\"\"\n",
    "user_prompt = question\n",
    "\n",
    "response = client.chat.completions.create(\n",
    "    model= groq_model,\n",
    "    messages=[\n",
    "        {\"role\": \"system\", \"content\": system_prompt},\n",
    "        {\"role\": \"user\", \"content\": user_prompt}\n",
    "    ]\n",
    ")\n",
    "print(response.choices[0].message.content)\n"
   ]
  },
  {
   "cell_type": "code",
   "execution_count": null,
   "id": "d46e945e",
   "metadata": {},
   "outputs": [],
   "source": [
    "print(story_chunks)"
   ]
  }
 ],
 "metadata": {
  "kernelspec": {
   "display_name": "Python 3",
   "language": "python",
   "name": "python3"
  },
  "language_info": {
   "codemirror_mode": {
    "name": "ipython",
    "version": 3
   },
   "file_extension": ".py",
   "mimetype": "text/x-python",
   "name": "python",
   "nbconvert_exporter": "python",
   "pygments_lexer": "ipython3",
   "version": "3.10.11"
  }
 },
 "nbformat": 4,
 "nbformat_minor": 5
}
